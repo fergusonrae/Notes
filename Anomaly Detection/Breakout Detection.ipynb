{
 "cells": [
  {
   "cell_type": "markdown",
   "metadata": {},
   "source": [
    "# What is it\n",
    "\n",
    "Breakout detection is based on time series data. It is characterized by two steady states and an intermediate transition period. There are two general forms.\n",
    "\n",
    "* __Mean shift:__ \n",
    " * A sudden jump in the time series corresponds to a mean shift. A sudden jump in CPU utilization from 40% to 60% would exemplify a mean shift.\n",
    "* __Ramp up:__\n",
    " * A gradual increase in the value of the metric from one steady state to another constitutes a ramp up. A gradual increase in CPU utilization from 40% to 60% would exemplify a ramp up."
   ]
  },
  {
   "cell_type": "markdown",
   "metadata": {},
   "source": [
    "<img src=\"images/breakout_detection_mean_shift.png\" alt=\"Drawing\" style=\"width: 500px;\"/>"
   ]
  },
  {
   "cell_type": "markdown",
   "metadata": {},
   "source": [
    "# Existing Packages\n",
    "\n",
    "## Twitter\n",
    "Has a Breakout Detection package that is best used with R.\n",
    "\n",
    "\"Our main motivation behind creating the package has been to develop a technique to detect breakouts which are robust, from a statistical standpoint, in the presence of anomalies.\" - *Twitter*\n",
    "\n",
    "### How it works\n",
    "Underlying algorithm is **e-Divisive with Medians (EDM)**. EDM can also be used detect change in distribution in a given time series.  EDM uses robust statistical metrics, viz., median, and estimates the statistical significance of a breakout through a permutation test.\n",
    "\n",
    "EDM uses the **Behavioral Change Point Analysis (BCPA)** which is a method of identifying hidden shifts in the underlying parameters of a time series, developed specifically to be applied to animal movement data which is irregularly sampled. The purpose of the BCPA is to identify the locations where changes are abrupt (assumed to correspond to discrete changes in an animal's behavior).\n",
    "\n",
    "\"The most significant drawback of the BCPA as implemented here is that the parameter values themselves are somewhat difficult to interpret. The most satisfying development would be to estimate meaningful parameters, for example the mean true velocity and characteristic time scale of auto-correlation, directly from the data. This is the focus of ongoing research.\" - eliezg@uw.edu.\n",
    "\n",
    "For more information on BCPA: http://wiki.cbr.washington.edu/qerm/index.php/Behavioral_Change_Point_Analysis\n",
    "\n",
    "### How to install / basic commands\n",
    "Needs to be installed using R\n",
    "\n",
    "__Installation:__  \n",
    "`install.packages(\"devtools\")  \n",
    "devtools::install_github(\"twitter/BreakoutDetection\")\n",
    "library(BreakoutDetection)`\n",
    "\n",
    "__For documentation:__  \n",
    "`help(breakout)`\n",
    "\n",
    "__To try using dummy data:__  \n",
    "`data(Scribe) res = breakout(Scribe, min.size=24, method='multi', beta=.001, degree=1, plot=TRUE)\n",
    "res$plot`\n",
    "\n",
    "The breakout function takes a data.frame with a column named 'timestamp' and a column named 'count'. It will only look at and compare these two columns. Therefore, you may need to group your data by the report date to use it.\n",
    "\n",
    "__Group_by:__  \n",
    "`data_grouped <- aggregate(colTIME ~ colSUMMED_COL, data, sum)`"
   ]
  }
 ],
 "metadata": {
  "kernelspec": {
   "display_name": "Python 3",
   "language": "python",
   "name": "python3"
  },
  "language_info": {
   "codemirror_mode": {
    "name": "ipython",
    "version": 3
   },
   "file_extension": ".py",
   "mimetype": "text/x-python",
   "name": "python",
   "nbconvert_exporter": "python",
   "pygments_lexer": "ipython3",
   "version": "3.6.0"
  }
 },
 "nbformat": 4,
 "nbformat_minor": 2
}
