{
 "cells": [
  {
   "cell_type": "markdown",
   "metadata": {},
   "source": [
    "# What is it\n",
    "\n",
    "Cloud offering from IBM. Is based on Cloud Foundry with is an open source Platformas a Service.\n",
    "\n",
    "**Platform as a Service (PaaS)**- A catgeory of could computing services that provide a platform for custoemrs to develope, run, and manage apps without having to deal with building and maintaining the infrastructure.\n",
    "\n",
    "It provides a dashboard for you to create, view, and manage application and services as well as monitor the application's resource usage.\n",
    "\n",
    "It provides access to a wide variety of services that can be incorporate into an application. One example is the Watson service which can get personality insights, speech to text, NLP, etc"
   ]
  },
  {
   "cell_type": "markdown",
   "metadata": {},
   "source": [
    "# What is Cloud Foundry\n",
    "\n",
    "PaaS. Not vendor specific. Users can choose\n",
    "- Development Frameworks\n",
    " - Supports Java, Spring, Ruby, Node.js, and custom\n",
    "- Application Servcies\n",
    " - Supports MrSQL, MongoDB, PostreSQL, Redis, RabbitMQ and custom\n",
    "- Clouds\n",
    " - Can choose to run it in Public, Private, VMWare, and OpenStack-based clouds\n",
    "\n",
    "Buildpacks are a convient way to package frameworks and runtimes. Community based, custom built, or built from scratch."
   ]
  },
  {
   "cell_type": "markdown",
   "metadata": {},
   "source": [
    "# Watson\n",
    "\n",
    "Watson is an IBM supercomputer that combines AI and analytical software for optimal performance. One interesting exmaple of it's use if for a law office. It can read available documents and give a precise response to questions"
   ]
  }
 ],
 "metadata": {
  "kernelspec": {
   "display_name": "Python 3",
   "language": "python",
   "name": "python3"
  },
  "language_info": {
   "codemirror_mode": {
    "name": "ipython",
    "version": 3
   },
   "file_extension": ".py",
   "mimetype": "text/x-python",
   "name": "python",
   "nbconvert_exporter": "python",
   "pygments_lexer": "ipython3",
   "version": "3.6.0"
  }
 },
 "nbformat": 4,
 "nbformat_minor": 2
}
