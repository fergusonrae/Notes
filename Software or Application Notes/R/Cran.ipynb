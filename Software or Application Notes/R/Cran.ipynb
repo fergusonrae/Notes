{
 "cells": [
  {
   "cell_type": "markdown",
   "metadata": {},
   "source": [
    "# What is it?\n",
    "\n",
    "Full name is The Comprehensive R Archive Network. CRAN is a network of ftp and web servers around the world that store identical, up-to-date, versions of code and documentation for R"
   ]
  },
  {
   "cell_type": "markdown",
   "metadata": {},
   "source": [
    "# How to access\n",
    "\n",
    "Use the mirror that's closest.  \n",
    "Mirrors: https://cran.r-project.org/\n",
    "\n",
    "For Milwaukee, this is: https://ftp.ussg.iu.edu/CRAN/"
   ]
  }
 ],
 "metadata": {
  "kernelspec": {
   "display_name": "Python 3",
   "language": "python",
   "name": "python3"
  },
  "language_info": {
   "codemirror_mode": {
    "name": "ipython",
    "version": 3
   },
   "file_extension": ".py",
   "mimetype": "text/x-python",
   "name": "python",
   "nbconvert_exporter": "python",
   "pygments_lexer": "ipython3",
   "version": "3.6.0"
  }
 },
 "nbformat": 4,
 "nbformat_minor": 2
}
