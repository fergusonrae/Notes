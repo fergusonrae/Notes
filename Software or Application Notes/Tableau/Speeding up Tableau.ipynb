{
 "cells": [
  {
   "cell_type": "markdown",
   "metadata": {},
   "source": [
    "# First, gather performance metrics\n",
    "\n",
    "In Tableau, you can run a performance recording. It pinpoints slow worksheets, queries, and long render times. It also shows the query text.\n",
    "\n",
    "This will narrow down what views are causing the most problems. So, once you know which ones are bad, you can try the following steps."
   ]
  },
  {
   "cell_type": "markdown",
   "metadata": {},
   "source": [
    "## 1. Data Strategy\n",
    "\n",
    "Extracts take a lot less time than live. It's not always possible to use exports though.\n",
    "\n",
    "The wider the data, the longer. Cut back on meaningless columns.\n",
    "\n",
    "Also, custom SQL should be avoided. It runs slower than queries created by Tableau. Also, Tableau cannot perform query optimizations on custom SQL. But if you have to, make sure to use an extract, not live.\n",
    "\n",
    "Extracts should also have Hide All Unused Fields options closed off. That way, unused columns won't be included in the extract and inproves performance.\n",
    "\n",
    "And finally, extracts can be __optomized__ by going to Extract > Optimize."
   ]
  },
  {
   "cell_type": "markdown",
   "metadata": {},
   "source": [
    "## 2. Reduce the number of marks\n",
    "\n",
    "Too many points in the view can ause problems. Like having 1000 points on a graph. Sometimes this can't be helped though because of artistic sensibilities.\n",
    "\n",
    "Some ways to avoid this\n",
    "* Don't fit everything in a single view. Compile related views and connect them with action filters.\n",
    "* Remove uneeded dimensions\n",
    "* Explore and display data in different types of views."
   ]
  },
  {
   "cell_type": "markdown",
   "metadata": {},
   "source": [
    "## 3. Limit the number of filters\n",
    "\n",
    "Showing the filter dialog requires Tableau to load its members and can create extra queries.\n",
    "\n",
    "How to avoid\n",
    "* Use INCLUDE instead of EXCLUDE. Exclude has to load the entire thing up and then filter down.\n",
    "* Use a continuous date filter\n",
    "* Use boolean or numeric filters, clean the data into this format.\n",
    "* Use parameters and action filters which reduces the query load and works across data sources.\n",
    "\n",
    "In order of how efficient it is, \n",
    "\n",
    "__Boolean < Int < Float < Date < DateTime < String__"
   ]
  },
  {
   "cell_type": "markdown",
   "metadata": {},
   "source": [
    "## 4. Optomize / materialize calculations\n",
    "\n",
    "* Perform low-level calculations in the database itself\n",
    "* Reduce the number of nested calculations\n",
    "* Make groups with calculations. Calculated groups only load named members of the domain and Tableau's group function loads the entire domain"
   ]
  }
 ],
 "metadata": {
  "kernelspec": {
   "display_name": "Python 3",
   "language": "python",
   "name": "python3"
  },
  "language_info": {
   "codemirror_mode": {
    "name": "ipython",
    "version": 3
   },
   "file_extension": ".py",
   "mimetype": "text/x-python",
   "name": "python",
   "nbconvert_exporter": "python",
   "pygments_lexer": "ipython3",
   "version": "3.6.0"
  }
 },
 "nbformat": 4,
 "nbformat_minor": 2
}
