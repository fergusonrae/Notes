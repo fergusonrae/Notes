{
 "cells": [
  {
   "cell_type": "markdown",
   "metadata": {},
   "source": [
    "# What is an Extract?\n",
    "\n",
    "Extract in Tableau is a saved subset of data. You can use it to increase performance by reducing the total amount of data using filters and other things.\n",
    "\n",
    "After creating an extract, it can be refreshed using the original data. This can be a full refresh, or just an incrememntal one which adds only the newest data.\n",
    "\n",
    "Creating this also gives offline access to data if the datasource is not available.\n",
    "\n",
    "\n",
    "# How to create one\n",
    "\n",
    "There are a couple ways to do it. As a note, any fields that are hidden first in the data pane on the sheet tab will be automatically excluded from the extract! Click Hide All Unused Fields button to remove them from the extract.\n",
    "\n",
    "Main way is\n",
    "\n",
    "1. In upper right of the data source page, select Extract and then click Edit to open the Extract Data dialog box.\n",
    "2. (Optional) Apply filters to limit the amount that is extracted.\n",
    " * Click add to define 1+ filters\n",
    " * Select Aggregate data for visable dimensions to aggregate the measures using default aggregation. This consolidates the rows, minimizing the size and increasing performance. You can also choose to roll up dates which can help reduce things\n",
    " * Select the number of rows you want.\n",
    "3. Choose okay\n",
    "4. Click the sheet tab. This causes an extract to be created.\n",
    "\n",
    "# Possible Problems\n",
    "\n",
    "* __It takes a long time__\n",
    " * Performance should improve after it's saved soooo?\n",
    "* __Extract is not created__\n",
    " * If you have too many columns (1000s), it might not be created. Do fewer columns you fool.\n",
    "* __Save dialog isn't shown or extract is not created from a .twbx__\n",
    " * If it's a packaged workbook, Save doesn't display. Instead the extract file is automatically stored. You have to unpack the workbook to see it.\n",
    "\n",
    "\n",
    "# Using them\n",
    "\n",
    "After an extract is created, the current workbook begins using it. But, the extract connection is not saved with the workbok until you save again.\n",
    "\n",
    "You can create and extract with a sample of the data so you can do the view and switch the whole data source to avoid constant low queries. Toggle between extract and entire by selecting the data source on the Data menu and then select Use Extract.\n",
    "\n",
    "You can see when an extract was last updated by going to __Extract > History__."
   ]
  },
  {
   "cell_type": "markdown",
   "metadata": {},
   "source": []
  }
 ],
 "metadata": {
  "kernelspec": {
   "display_name": "Python 3",
   "language": "python",
   "name": "python3"
  },
  "language_info": {
   "codemirror_mode": {
    "name": "ipython",
    "version": 3
   },
   "file_extension": ".py",
   "mimetype": "text/x-python",
   "name": "python",
   "nbconvert_exporter": "python",
   "pygments_lexer": "ipython3",
   "version": "3.6.0"
  }
 },
 "nbformat": 4,
 "nbformat_minor": 2
}
