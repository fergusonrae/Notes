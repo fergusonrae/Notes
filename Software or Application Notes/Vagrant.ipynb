{
 "cells": [
  {
   "cell_type": "markdown",
   "metadata": {},
   "source": [
    "# If it is the Master Lock local environment\n",
    "\n",
    "* You need to be in the first level of the masterlock-development repo in order for it to run\n",
    "\n",
    "`$vagrant up` : starts the server for builds\n",
    "\n",
    "`$vagrant reload` : If server is already up and you want to refresh it\n",
    "\n",
    "`$vagrant halt` : Supposedly pauses the server, I have yet to have it do this accurately. Usually it pauses the server, and then when you call $vagrant up again, throws errors\n",
    "\n",
    "`$vagrant destroy` : Completely removes the server. Starting it back up again may take a while.\n",
    "\n",
    "### To make changes to the redirects\n",
    "\n",
    "* Make changes directly in the apache -> redirects -> file folder\n",
    "* In order to see changes, the vegrant server must be destroyed and then rebuilt which takes a while."
   ]
  }
 ],
 "metadata": {
  "kernelspec": {
   "display_name": "Python 3",
   "language": "python",
   "name": "python3"
  },
  "language_info": {
   "codemirror_mode": {
    "name": "ipython",
    "version": 3
   },
   "file_extension": ".py",
   "mimetype": "text/x-python",
   "name": "python",
   "nbconvert_exporter": "python",
   "pygments_lexer": "ipython3",
   "version": "3.6.0"
  }
 },
 "nbformat": 4,
 "nbformat_minor": 2
}
