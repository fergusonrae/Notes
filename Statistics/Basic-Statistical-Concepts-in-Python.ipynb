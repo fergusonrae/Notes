{
 "cells": [
  {
   "cell_type": "markdown",
   "metadata": {},
   "source": [
    "# Overview\n",
    "\n",
    "The aim of this notebook is to go over rudimentary statistical concepts and how to apply them using Python. For examples, I'll use the data set below which should be loaded before any examples are loaded.\n",
    "\n",
    "If you do not have pydataset installed, it can be installed with the following command.\n",
    "\n",
    "Also, keep in mind that R is better for statistical testing. Python is good for mixing stats with other things, but not pure statistics.\n",
    "\n",
    "`$ pip install pydataset`"
   ]
  },
  {
   "cell_type": "markdown",
   "metadata": {},
   "source": [
    "## Example Data - Journals\n",
    "\n",
    "**title** - journal title\n",
    "\n",
    "**pub** - publisher\n",
    "\n",
    "**society** - scholarly society ?\n",
    "\n",
    "**libprice** - library subscription price\n",
    "\n",
    "**pages** - number of pages\n",
    "\n",
    "**charpp** - characters per page\n",
    "\n",
    "**citestot** - total number of citations\n",
    "\n",
    "**date1** - year journal was founded\n",
    "\n",
    "**oclc** - number of library subscriptions\n",
    "\n",
    "**field** - field description"
   ]
  },
  {
   "cell_type": "code",
   "execution_count": 2,
   "metadata": {
    "collapsed": false
   },
   "outputs": [],
   "source": [
    "from pydataset import data\n",
    "\n",
    "journals = data('Journals')"
   ]
  },
  {
   "cell_type": "markdown",
   "metadata": {},
   "source": [
    "# Populations and Samples\n",
    "\n",
    "**Population**: any large collection of objects or individuals about which info is desired.    \n",
    "**Parameter**: Any summary number that describes the entire population. (Ex. average or percentage)  \n",
    "**μ**: (\"mu\") Population mean.  \n",
    "**p**: (population proportion) Population proportion.\n",
    "\n",
    "**Sample**: Any representative group drawn from the population.  \n",
    "**Statistic**: Any summary number that describes the sample. (Ex. average or percentage). An estimate of the parameter.  \n",
    "**x¯**: Sample mean. (x with a line above it)  \n",
    "**p̂**: Sample proportion\n",
    "\n",
    "Populations are super rare and don't really require any statistical analysis. Example data is a sample."
   ]
  },
  {
   "cell_type": "code",
   "execution_count": null,
   "metadata": {
    "collapsed": false
   },
   "outputs": [],
   "source": [
    "# Sample mean\n",
    "print(\"Mean of pages:\\n\", journals['pages'].mean())\n",
    "\n",
    "#Sample proportion\n",
    "print(\"\\nProportion of publishers:\\n\",\n",
    "      journals.groupby('pub').size().apply(\n",
    "          lambda x:(x/journals.groupby('pub').size().max())))"
   ]
  },
  {
   "cell_type": "markdown",
   "metadata": {},
   "source": [
    "# Confidence Intervals\n",
    "\n",
    "Is the range of vales that we can be a % confident the population parameter is contained in. Usually 95%.\n",
    "\n",
    "Lower value < population mean **μ** < Upper value\n",
    "\n",
    "*In the most general form:*  \n",
    "Sample estimate ± margin of error\n",
    "\n",
    "*More specific:*  \n",
    "Sample mean ± (t-multiplier × standard error)\n",
    "\n",
    "Can also have one-sided confidence intervals where either the lower or upper is infinity. This allows you to have a tighter estimate on the non-infinity value.\n",
    "\n",
    "**When to use one-sided** - Specifically asked whether the unknown mean is more than or not more than a specific value. Or if the practical consequences of the unknown mean being more/less than a specific value make it so. Example, how much weight can this bridge hold? Underestimating doesn't hurt, but over estimating can mean death.\n",
    "\n",
    "**When to use two-sided** - Specifically asked if an unknown mean is equal to a specific value. Or, it's more practical. Example, where is the wormhole located? Being too over or under could result in over shooting it and thus potential death in the freezer of space."
   ]
  },
  {
   "cell_type": "markdown",
   "metadata": {},
   "source": [
    "# Hypothesis Testing\n",
    "\n",
    "Has three steps\n",
    "* Make initial assumption\n",
    "* Collect evidence\n",
    "* Based on available evidence, decide whether or not to reject the initial assumption\n",
    "\n",
    "Don't make claims that very unusual events are the null hypothesis and it needs to be prove otherwise. Innocent until proven wrong.\n",
    "\n",
    "### Type I Error versus Type II Error\n",
    "**Type I error**: Null hypothesis is rejected when it's true, considered **alpha ( α )**.  \n",
    "**Type II error**: Null hypothesis is not rejected when it's false.\n",
    "\n",
    "Goal is to minimize these errors. Which one is worse to make depends on the situation.\n",
    "\n",
    "### Likely vs Unlikely \n",
    "This is the decision it comes down to. There are two ways to determine if something is likely vs unlikely.\n",
    "* **critical value approach** - Older\n",
    "* **P-value approach** - Most often used\n",
    "\n",
    "### Critical value approach\n",
    "Determine whether or not to reject by determining whether or not the observed test statistic is more extreme than some cutoff value, the **critical value**.\n",
    "\n",
    "Four steps are:\n",
    "* Specify the null and alternative hypotheses\n",
    "* Using the sample data and assuming null is true, calculate the value of the test statistic.\n",
    "* Determine the critical value by finding the value of the known distribution of the test statistic such that the propability of making a type I error, alpha, is small. (Jorgenson always did 0.05). (Alpha = Type I Error = **significance level of the test**)\n",
    "* Compare the test statistic to the critical value. If it's more extreme, reject."
   ]
  },
  {
   "cell_type": "code",
   "execution_count": null,
   "metadata": {
    "collapsed": true
   },
   "outputs": [],
   "source": []
  }
 ],
 "metadata": {
  "kernelspec": {
   "display_name": "Python 3",
   "language": "python",
   "name": "python3"
  },
  "language_info": {
   "codemirror_mode": {
    "name": "ipython",
    "version": 3
   },
   "file_extension": ".py",
   "mimetype": "text/x-python",
   "name": "python",
   "nbconvert_exporter": "python",
   "pygments_lexer": "ipython3",
   "version": "3.6.0"
  }
 },
 "nbformat": 4,
 "nbformat_minor": 2
}
