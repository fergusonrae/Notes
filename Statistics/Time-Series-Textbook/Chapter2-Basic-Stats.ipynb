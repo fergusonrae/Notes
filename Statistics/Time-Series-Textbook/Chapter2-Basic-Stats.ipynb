{
 "cells": [
  {
   "cell_type": "markdown",
   "metadata": {},
   "source": [
    "### Forecasting, Time Series and Regression by Bowerman, O'Connell, Koehler"
   ]
  },
  {
   "cell_type": "markdown",
   "metadata": {},
   "source": [
    "# Chapter 2 - Basic Statistical Concepts\n",
    "\n",
    "Most of the beginning of this chapter will be skipped as I know it already."
   ]
  },
  {
   "cell_type": "markdown",
   "metadata": {},
   "source": [
    "# 2.1 - Populations\n",
    "\n",
    "Latex code of the most common\n",
    "\n",
    "**Population mean** $= \\mu$\n",
    "\n",
    "**Population range** $= RNG = y_{max} - y_{min}$\n",
    "\n",
    "**Population variance** $= \\chi^2$\n",
    "\n",
    "**Population DS"
   ]
  }
 ],
 "metadata": {
  "kernelspec": {
   "display_name": "Python 3",
   "language": "python",
   "name": "python3"
  },
  "language_info": {
   "codemirror_mode": {
    "name": "ipython",
    "version": 3
   },
   "file_extension": ".py",
   "mimetype": "text/x-python",
   "name": "python",
   "nbconvert_exporter": "python",
   "pygments_lexer": "ipython3",
   "version": "3.6.0"
  }
 },
 "nbformat": 4,
 "nbformat_minor": 2
}
