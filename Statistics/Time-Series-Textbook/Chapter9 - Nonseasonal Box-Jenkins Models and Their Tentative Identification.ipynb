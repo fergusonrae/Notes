{
 "cells": [
  {
   "cell_type": "markdown",
   "metadata": {},
   "source": [
    "### Forecasting, Time Series and Regression by Bowerman, O'Connell, Koehler"
   ]
  },
  {
   "cell_type": "markdown",
   "metadata": {},
   "source": [
    "# Overview\n",
    "\n",
    "Box-Jenkins methodology is a four step iterative procedure\n",
    "1. **Tentative Identification**: historical data are used to tentatively identify an appropriate Box-Jenkins model\n",
    "2. **Estimation**: Historical data are used to estimate the parameters of the tentatively identified model.\n",
    "3. **Diagnostic checking**: Various diagnostics are used to check the accuracy of the tentatively identified model and, if needed, to suggest an improved model which is then regarded as a new tentively identified model.\n",
    "4. **Forecasting**: Once a final model is obtained, it is used to forecast future time series values.\n",
    "\n",
    "Classical B-J models describe stationary time series."
   ]
  },
  {
   "cell_type": "markdown",
   "metadata": {},
   "source": [
    "# 9.1 Stationary and Nonstationary Time Series\n",
    "\n",
    "A time series is **stationary** if the statistical properties (ex, mean and variance) are practically constant over time.\n",
    "\n",
    "Taking first differences often makes it stationary.\n",
    "\n",
    "If first differences isn't good enough, take seconds\n",
    "\n",
    "**Second difference** $= z_t = (y_t - y_{t-1}) - (y_{t-1} - y_{t-2}) = y_t - 2y_{t-1} + y_{t-2}$\n",
    "\n",
    "So, since we are maniulating the data, we'll come up with a new name for the outputed data.\n",
    "\n",
    "**Working Series** $= z_b, z_{b+1}, z_{b+2}, ..., z_n$\n",
    "\n",
    "If the original data are non-stationary and nonseasonal, it will usually be stationary by the second difference. Data that is non-stationary and seasonal can be harder and result in more complex equations."
   ]
  },
  {
   "cell_type": "markdown",
   "metadata": {},
   "source": [
    "# 9.2 Sample Autocorrelation and Partial Autocorrelation (SAC and SPAC)\n",
    "\n",
    "## SAC\n",
    "\n",
    "This is a listing or graph of the sample autocorrelation function at lages k = 1, 2, ...\n",
    "\n",
    "**SAC at lag k** $$= r_k =  \\displaystyle\\frac{\\sum_{t=b}^{n-k} (z_t - \\bar{z})(z_{t+k} - \\bar{z})}{\\sum_{t=b}^n (z_t - \\bar{z})^2}$$\n",
    "\n",
    "$$\\bar{z} =  \\displaystyle\\frac{\\sum_{t=b}^n z_t}{(n-b+1)}$$\n",
    "\n",
    "This measures the linear relationship between time series observations separated by a lag of k times. $r_k$ will always be between -1 and 1. Close to 1 means that observations separated by a lag of k have a tendency to move in a linear fashion with a positive slope. Same with -1, but with a negative slope.\n",
    "\n",
    "$$t_{r_k}-statistic = \\displaystyle\\frac{r_k}{s_{r_k}}$$\n",
    "\n",
    "**A spike at lag k** exists in the SAC if $r_k$ is statistically large or $t_{r_k}$ is greater than two.\n",
    "\n",
    "The time series **cuts off after lag k** if there are no more spikes at lags greater than k in the SAC.\n",
    "\n",
    "The time series **dies down** if it just decreases in a steady fashion. This is kind of up to the viewer. It can die down in three different ways.\n",
    "1. A damped exponential fashion (no oscillation or with oscillation)\n",
    "2. A damped sign wave\n",
    "3. A combination of the two above.\n",
    "\n",
    "It can also die down *fairly quickly* or *extremely slowly*.\n",
    "\n",
    "### Using SAC to find a Stationary Nonseasonal Time Series\n",
    "\n",
    "In general, it can be shown that:\n",
    "1. If the SAC of the working series (already differenced if desired) wither cuts off very quickly or dies down fairly quickly, then it is stationary. Usuallycut off after a lag that is >= 2.\n",
    "2. If the SAC of the working series dies down extremely slowly, it should be considered non stationary.\n",
    "\n",
    "If SAC is found to be non stationary, do another difference and try again.\n",
    "\n",
    "## SPAC\n",
    "\n",
    "Is $r_{kk}$\n",
    "\n",
    "Has different formulas that I don't want to write right now. It can be thought of as the SAC with lag k with the effects of the intervening observation eliminated."
   ]
  },
  {
   "cell_type": "markdown",
   "metadata": {},
   "source": [
    "# 9.3 Intro to Nonseasonal Modeling and Forecasting\n",
    "\n",
    "Once the time series has been transformed into stationary time series values, we can use SAC and SPAC to identify a B-J model. Two useful types are:\n",
    "1. Autoregressive models\n",
    "2. Moving average models\n",
    "\n",
    "**Random Shock** $a_t$ is the term that will describe the effect of all factors other than $z_{t-1}$ on $z_t$. It's a value that is assumed to have been randomly selected fro a narmal distribution with mean of zero and variance that is the same for every time period (or stationary). Also, the random shock at every point in time is considered to be statistically independent of each other.\n",
    "\n",
    "Even though there are many B-J models, each is characterized by its **theoretical autocorrelation function (TAC)** and its **theoretical partial autocorrelation function (TPAC)**\n",
    "1. **TAC** of a model is a listing of the theoretical autocorrelations $p_1, p_2, ...$ of time series observations described.\n",
    "2. **TPAC** is a listing of the theoretical partial autocorrelations $p_{11}, p_{22},...$.\n",
    "\n",
    "**THE SAC AND SPAC ARE ESTIMATES OF THE TAC AND TPAC**"
   ]
  }
 ],
 "metadata": {
  "kernelspec": {
   "display_name": "Python 3",
   "language": "python",
   "name": "python3"
  },
  "language_info": {
   "codemirror_mode": {
    "name": "ipython",
    "version": 3
   },
   "file_extension": ".py",
   "mimetype": "text/x-python",
   "name": "python",
   "nbconvert_exporter": "python",
   "pygments_lexer": "ipython3",
   "version": "3.6.0"
  }
 },
 "nbformat": 4,
 "nbformat_minor": 2
}
