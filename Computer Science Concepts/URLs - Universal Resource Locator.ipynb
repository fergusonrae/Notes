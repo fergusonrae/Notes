{
 "cells": [
  {
   "cell_type": "markdown",
   "metadata": {},
   "source": [
    "# Structure\n",
    "\n",
    "`<scheme>://<username>:<password>@<host>:<port>/<path>;<parameters>?<query>#<fragment>`\n",
    "\n",
    "Most don't contain all of those parts.\n",
    "\n",
    "__scheme__: The protocol used to access the resource addressed by the URL (eg, http, ftp). It is official if it is registered with the Internet Assigned Numbers Authority, which is an American corporation that oversees global IP address allocation and other Internet Protocol related symbols/numbers.\n",
    "\n",
    "__username__:This + password, host, and port form the authority part of the URL. Having the username and password is common in ftp URLs and less common in http URLs.\n",
    "\n",
    "__password__: The other part of the authentication information for a URL. \n",
    "\n",
    "__host__: Can be either a domain name of an IP address. The domain name will resolve to an IP address via a DNS lookup to identify the machine we're trying to access.\n",
    "\n",
    "__port__: Tells us what network port a particular application on the machine we're connecting to is listening on. Default is 80 so if it is omitted, it's assumed to be 80.\n",
    "\n",
    "__path__: Separated from ther URL components preceding it by a slah/ A sequence of segments separated by / characters. Each of the path segmnets can contain parameters which are separated from the segment by a semi-colon character. The semi character is very rarely used however.\n",
    "\n",
    "__parameters__: Appear after the path by before the query string. Not very common. Are seperated from the rest of the URL and from each other by ; characters.\n",
    "\n",
    "__query__: The preferred way to send some parameters to a resource on the server. They are key=value pairs and are separated from the rest of the URL by a ? Question mark. They can also be separated using ;, but it's way less common.\n",
    "\n",
    "__fragment__/__anchor__: Optional part, used to address a particular part of a resource. They usually link to a particular section of an html document. It's seperated by the rest of the URl with a # hash."
   ]
  },
  {
   "cell_type": "markdown",
   "metadata": {},
   "source": [
    "# Absolute vs Relative\n",
    "\n",
    "If a URL contains a scheme (like http), then it is an __absolute URL__.\n",
    "\n",
    "A relative URL is always interpreted relative to another URL. This other URL is known as the base URL. To convert a relative URL into its absolute form, we need to find the base URL and combine the two.\n",
    "\n",
    "Relative URLs are usually inside html documents. To find the base, you can try the following:\n",
    "1. Base URL might have been stated using the HTML <base> tag\n",
    "2. If you can't find the base tag, then the URL of the html document in which the relative URL is found should be treated as the base."
   ]
  }
 ],
 "metadata": {
  "kernelspec": {
   "display_name": "Python 3",
   "language": "python",
   "name": "python3"
  },
  "language_info": {
   "codemirror_mode": {
    "name": "ipython",
    "version": 3
   },
   "file_extension": ".py",
   "mimetype": "text/x-python",
   "name": "python",
   "nbconvert_exporter": "python",
   "pygments_lexer": "ipython3",
   "version": "3.6.0"
  }
 },
 "nbformat": 4,
 "nbformat_minor": 2
}
