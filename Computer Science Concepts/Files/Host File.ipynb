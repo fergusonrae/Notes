{
 "cells": [
  {
   "cell_type": "markdown",
   "metadata": {},
   "source": [
    "# What is it?\n",
    "\n",
    "This is a file on your local server that can be used to override default DNS information.\n",
    "\n",
    "This is useful when you're doing local development on your computer and you need a way to access the sites without having seperate ports open for every site you are testing. You can have them all on the same address and then change which on you are looking at by defining a site for that development.\n",
    "\n",
    "# How to Edit on a Mac\n",
    "\n",
    "In Terminal, type:  \n",
    "`nano /etc/hosts`\n",
    "\n",
    "You'll be required to enter your password to continue beyond that point. Once entered, you'll be taken to an editor. Use the arrow keys to enter the desired path and domain that you want displayed.\n",
    "\n",
    "To save, do CTR - O\n",
    "\n",
    "To quit, do CTR - X"
   ]
  }
 ],
 "metadata": {
  "kernelspec": {
   "display_name": "Python 3",
   "language": "python",
   "name": "python3"
  },
  "language_info": {
   "codemirror_mode": {
    "name": "ipython",
    "version": 3
   },
   "file_extension": ".py",
   "mimetype": "text/x-python",
   "name": "python",
   "nbconvert_exporter": "python",
   "pygments_lexer": "ipython3",
   "version": "3.6.0"
  }
 },
 "nbformat": 4,
 "nbformat_minor": 2
}
