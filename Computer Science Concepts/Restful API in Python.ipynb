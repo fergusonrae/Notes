{
 "cells": [
  {
   "cell_type": "markdown",
   "metadata": {},
   "source": [
    "## General and Vocab\n",
    "\n",
    "API is used to retrieve data from a remote website  \n",
    "Make a request to a remote server and retrieve the data you need\n",
    "\n",
    "**Endpoint** - A server route that is used to retrieve different data from the API\n",
    "* Example: \"/comments\" might retrieve info about comments\n",
    "\n",
    "**Base URL** - Main URL\n",
    "* https://www.reddit.com\n"
   ]
  },
  {
   "cell_type": "markdown",
   "metadata": {},
   "source": [
    "## When Useful\n",
    "* Data is changing quickly\n",
    "* The user wants a small piece of a large data set\n",
    "* There are repeated computations\n",
    "  * Example: Spotify's API will tell the user the genre of song. You could create a classifier that does that, but Spotify's will be better because it has more data availble so you might as well use that."
   ]
  },
  {
   "cell_type": "markdown",
   "metadata": {},
   "source": [
    "## Get Requests\n",
    " * Data is usually retrurned in JSON\n",
    " * To get the data, you make a request to a webserver\n",
    " * In Python, this is the **requests library**\n",
    " * Get is the most common request"
   ]
  },
  {
   "cell_type": "raw",
   "metadata": {},
   "source": [
    "responseVariable = request.get(\"BaseURL/EndPoint\")\n",
    "\n",
    "# Would print the status code\n",
    "print(response.status_code)"
   ]
  },
  {
   "cell_type": "markdown",
   "metadata": {},
   "source": [
    "## Status Code\n",
    "\n",
    "**200** - All good, result returned if any  \n",
    "**301** - Sever is redirecting to a different endpoint  \n",
    "**400** - Server thinks it's a bad request  \n",
    "**401** - Server thinks you aren't authenticated, didn't send right credentials to access an API  \n",
    "**403** - Resource is forbidden  \n",
    "**404** - Resource isn't on the server  "
   ]
  },
  {
   "cell_type": "markdown",
   "metadata": {},
   "source": [
    "## Query Parameters\n",
    "Can pass them directly into the URL, but it is best to set up a seperate dictionary."
   ]
  },
  {
   "cell_type": "raw",
   "metadata": {},
   "source": [
    "parameters = {\"lat\": 40.71, \"lon\": -74}\n",
    "responseVariable = requests.get(\"BaseURL/EndPoint\" params = parameters)\n",
    "\n",
    "# Gets the content of the response\n",
    "print(response.content)"
   ]
  },
  {
   "cell_type": "markdown",
   "metadata": {},
   "source": [
    "## JSON Library on Python\n",
    "\n",
    "json package  \n",
    "Can convert lists and dictionaries to JSON and convert strings to lists and dictionaries\n",
    "\n",
    "Has two main methods\n",
    "1. **dumps** - Takes a Python object and converts it to a string\n",
    "2. **loads** - Taves JSON string and converts to a Python object\n",
    "\n",
    "Get content of response as a python object by using .json() as a method on the response"
   ]
  },
  {
   "cell_type": "raw",
   "metadata": {},
   "source": [
    "# A list of food\n",
    "food = ['Taco', 'Burger', 'Chicken']\n",
    "\n",
    "import json\n",
    "\n",
    "#USe json.dumps to covert foods to a string\n",
    "foodString = json.dumps(food)\n",
    "\n",
    "#Convert foodString back to a list\n",
    "foodList = json.loads(foodString)\n",
    "\n",
    "#Get response data as a python object\n",
    "responseVariable = requests.get(\"Blah\")\n",
    "data = response.json()"
   ]
  },
  {
   "cell_type": "markdown",
   "metadata": {},
   "source": [
    "## Content Type/Headers\n",
    "While server sends status code and data when generating a response, it also sends metadata with info on how the data was generated and how to decode it stored in the **response headers**.\n",
    "\n",
    "Headers will be shown in a dictionary.\n",
    "\n",
    "In headers, **content-type** is the most important key. Tells the format of the response and how to decode it."
   ]
  },
  {
   "cell_type": "raw",
   "metadata": {},
   "source": [
    "print(response.headers)\n",
    "\n",
    "#get content-type from the dictionary\n",
    "# Is like dataframes, is the key that you use to get a value\n",
    "print(response.headers['content-type\"])"
   ]
  }
 ],
 "metadata": {
  "kernelspec": {
   "display_name": "Python 3",
   "language": "python",
   "name": "python3"
  },
  "language_info": {
   "codemirror_mode": {
    "name": "ipython",
    "version": 3
   },
   "file_extension": ".py",
   "mimetype": "text/x-python",
   "name": "python",
   "nbconvert_exporter": "python",
   "pygments_lexer": "ipython3",
   "version": "3.6.0"
  }
 },
 "nbformat": 4,
 "nbformat_minor": 2
}
