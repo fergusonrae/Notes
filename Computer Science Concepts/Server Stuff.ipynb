{
 "cells": [
  {
   "cell_type": "markdown",
   "metadata": {},
   "source": [
    "Map user product bought to product category to lessen strain on Q\n",
    "\n",
    "When there’s new urls or deleted ones, you need to update sitemap.\n",
    "\n",
    "Apache2 directory\n",
    "Apachectl –t \n",
    "\tCheck to see if all if good\n",
    "tail -100f masterlock.com-access_log\n",
    "\tGets the access file for redirects, the last 100 lines, and then follows the res\n",
    "\n",
    "\n",
    "Change up order"
   ]
  }
 ],
 "metadata": {
  "kernelspec": {
   "display_name": "Python 3",
   "language": "python",
   "name": "python3"
  },
  "language_info": {
   "codemirror_mode": {
    "name": "ipython",
    "version": 3
   },
   "file_extension": ".py",
   "mimetype": "text/x-python",
   "name": "python",
   "nbconvert_exporter": "python",
   "pygments_lexer": "ipython3",
   "version": "3.6.0"
  }
 },
 "nbformat": 4,
 "nbformat_minor": 2
}
