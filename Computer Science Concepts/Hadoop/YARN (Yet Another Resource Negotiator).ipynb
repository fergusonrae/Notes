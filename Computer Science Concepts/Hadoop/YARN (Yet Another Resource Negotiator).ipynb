{
 "cells": [
  {
   "cell_type": "markdown",
   "metadata": {},
   "source": [
    "# What is it?\n",
    "\n",
    "A cluster management technology. It is also sometimes called MapReduce 2.0. But, it is a decouples MapReduce's resource management and scheduling capabilities from the data processing component giving Hadoop more varied processing approaches and a broader array of application.\n",
    "\n",
    "It is a sub-project of the Apache Hadoop project."
   ]
  },
  {
   "cell_type": "markdown",
   "metadata": {},
   "source": [
    "# Vocab / Word Bank\n",
    "\n",
    "__decoupled__: seperates or disassociates "
   ]
  }
 ],
 "metadata": {
  "kernelspec": {
   "display_name": "Python 3",
   "language": "python",
   "name": "python3"
  },
  "language_info": {
   "codemirror_mode": {
    "name": "ipython",
    "version": 3
   },
   "file_extension": ".py",
   "mimetype": "text/x-python",
   "name": "python",
   "nbconvert_exporter": "python",
   "pygments_lexer": "ipython3",
   "version": "3.6.0"
  }
 },
 "nbformat": 4,
 "nbformat_minor": 2
}
