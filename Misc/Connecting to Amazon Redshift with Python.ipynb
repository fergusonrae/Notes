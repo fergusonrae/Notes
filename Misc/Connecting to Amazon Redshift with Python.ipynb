{
 "cells": [
  {
   "cell_type": "markdown",
   "metadata": {},
   "source": [
    "## Using pycogp2\n",
    "Puts selected into a numpy array."
   ]
  },
  {
   "cell_type": "code",
   "execution_count": null,
   "metadata": {
    "collapsed": true
   },
   "outputs": [],
   "source": [
    "import psycopg2\n",
    "import numpy as np\n",
    "\n",
    "connection = psycopg2.connect(dbname= '<db_name>', host='<db_host_or_server>',\n",
    "        port = '<port_number>', user = '<username>', password = '<password>')\n",
    "\n",
    "cur = con.cursor()\n",
    "cur.execute(\"SELECT * FROM <schema.table>\")\n",
    "data = np.array(cur.fetchall())\n",
    "cur.close() \n",
    "connection.close()"
   ]
  },
  {
   "cell_type": "markdown",
   "metadata": {},
   "source": [
    "## Using sqlalchemy\n",
    "Puts selected into pandas dataframe."
   ]
  },
  {
   "cell_type": "code",
   "execution_count": null,
   "metadata": {
    "collapsed": true
   },
   "outputs": [],
   "source": [
    "from sqlalchemy import create_engine\n",
    "import pandas as padas\n",
    "engine = create_engine(\n",
    "    'postgresql://<USERNAME>:<PASSWORD>@<HOST/SERVER>:<PORT>/<DB_NAME>')\n",
    "data_frame = padas.read_sql_query('SELECT * FROM <SCHEMA.TABLE>;', engine)"
   ]
  }
 ],
 "metadata": {
  "kernelspec": {
   "display_name": "Python 3",
   "language": "python",
   "name": "python3"
  },
  "language_info": {
   "codemirror_mode": {
    "name": "ipython",
    "version": 3
   },
   "file_extension": ".py",
   "mimetype": "text/x-python",
   "name": "python",
   "nbconvert_exporter": "python",
   "pygments_lexer": "ipython3",
   "version": "3.6.0"
  }
 },
 "nbformat": 4,
 "nbformat_minor": 2
}
