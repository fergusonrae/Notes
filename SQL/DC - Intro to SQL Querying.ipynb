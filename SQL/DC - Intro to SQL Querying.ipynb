{
 "cells": [
  {
   "cell_type": "markdown",
   "metadata": {},
   "source": [
    "column = field\n",
    "\n",
    "It's good practive to capitalize SQL keywords to distinguish them from the other parts of the query.\n",
    "\n",
    "It's also good practice to include a semi colon at the end, but not necessary.\n",
    "\n",
    "## Count\n",
    "SELECT COUNT(\\*) - Counts the number of rows  \n",
    "SELECT COUNT(column_name) - Counts the number of non-empty rows of a columns  \n",
    "SELECT COUNT(DISTINCT column_name) - Counts the number of unique values of the column  "
   ]
  },
  {
   "cell_type": "markdown",
   "metadata": {},
   "source": [
    "## Where\n",
    "Used to compare.\n",
    "\n",
    "<> $\\equiv$ not equal\n",
    "\n",
    "You can add as many ANDs and ORs to it, bt you need to specify the column name each time.\n",
    "\n",
    "SELECT title  \n",
    "FROM films  \n",
    "WHERE (release_year = 1994 OR release_year = 1995)  \n",
    "AND (certification = 'PG' OR certification = 'R');"
   ]
  },
  {
   "cell_type": "markdown",
   "metadata": {},
   "source": [
    "## BETWEEN\n",
    "\n",
    "Used to compare values in a range. Rather than having to individually say that a value is both >= x and <= y, you can just say that it is BETWEEN x AND y.\n",
    "\n",
    "SELECT title  \n",
    "FROM films  \n",
    "WHERE release_year BETWEEN 1994 AND 1995  \n",
    "AND (certification = 'PG' OR certification = 'R');\n",
    "\n",
    "BETWEEN is **inclusive**"
   ]
  },
  {
   "cell_type": "markdown",
   "metadata": {},
   "source": [
    "## IN\n",
    "Like BETWEEN, but can also be used for categorical or text values. Creates a list of possible values that the value can be.\n",
    "\n",
    "SELECT name  \n",
    "FROM kids  \n",
    "WHERE age IN (2, 4, 6, 8, 10);"
   ]
  },
  {
   "cell_type": "markdown",
   "metadata": {},
   "source": [
    "## NULL\n",
    "A NULL value is a value that is missing. Not a value that is an empty string, corrupt, or invalid.\n",
    "\n",
    "When checking if a value is null, you have to write\n",
    "\n",
    "WHERE column_name IS NULL\n",
    "\n",
    "NOT!\n",
    "\n",
    "WHERE column_name = NULL"
   ]
  },
  {
   "cell_type": "markdown",
   "metadata": {},
   "source": [
    "## Wildcard\n",
    "You need to use wildcards with the like statement, not with an equal sign.\n",
    "\n",
    "% - matches zero, one, or many characters in text  \n",
    "_ - matches a single character\n",
    "\n",
    "Ex.  \n",
    "SELECT name  \n",
    "FROM companies  \n",
    "WHERE name LIKE 'Data%';\n",
    "\n",
    "Ex. 2  \n",
    "SELECT name  \n",
    "FROM people  \n",
    "WHERE name NOT LIKE 'A_n%'"
   ]
  },
  {
   "cell_type": "markdown",
   "metadata": {},
   "source": [
    "## Aggregate Function\n",
    "\n",
    "SELECT SUM(column_name)  \n",
    "FROM table;\n",
    "\n",
    "Some possible choices:\n",
    "* SUM()\n",
    "* AVG()\n",
    "* MAX()\n",
    "* MIN()\n",
    "\n",
    "Aggregate functions can't be used in WHERE clauses. You have to using the HAVING clause."
   ]
  },
  {
   "cell_type": "markdown",
   "metadata": {},
   "source": [
    "## Arithmetic\n",
    "You can also do basic arithmetic\n",
    "\n",
    "Note: SELECT(4/3) gives a result of 1. If you are using ints, SQL assumes that you want an int back. So\n",
    "\n",
    "SELECT(4.0/3.0) AS result gives 1.333"
   ]
  },
  {
   "cell_type": "markdown",
   "metadata": {},
   "source": [
    "## Aliasing\n",
    "Means assigning a temporary name to something. Is done using the AS keyword. Useful when you want to get back results that have the same name. For example:\n",
    "\n",
    "SELECT MAX(budget), MAX(duration)  \n",
    "FROM films;\n",
    "\n",
    "Would result two columns both called MAX. So, to make results more readable, you can do:\n",
    "\n",
    "SELECT MAX(budget) AS max_budget,  \n",
    "       MAX(duration) AS max_duration  \n",
    "FROM films;  "
   ]
  },
  {
   "cell_type": "markdown",
   "metadata": {},
   "source": [
    "## ORDER BY\n",
    "By default, orders results in ascending order. For text or character values, this means ordering by A-Z. Characters that are not in the alphabet like \"[\" or \"Æ\" are listed after Z.\n",
    "\n",
    "this is pretty much the sort_values command for dataframes.\n",
    "\n",
    "To change it to descending, add DESC at the end.\n",
    "\n",
    "SELECT title  \n",
    "FROM films  \n",
    "ORDER BY release_year DESC;\n",
    "\n",
    "Make sure to always put the ORDER BY clause at the end of your query. You can't sort values that you haven't calculated yet!"
   ]
  },
  {
   "cell_type": "markdown",
   "metadata": {},
   "source": [
    "## GROUP BY\n",
    "Is used to aggregate resulrs. Is commonly used with aggregate functions like COUNT() and MAX(). The same as groupby with dataframes.\n",
    "\n",
    "GROUP BY always goes before ORDER BY!\n",
    "\n",
    "EX.  \n",
    "SELECT sex, count(\\*)  \n",
    "FROM employees  \n",
    "GROUP BY sex;\n",
    "\n",
    "SQL will return an error if you try to SELECT a field that is not in your GROUP BY clause without using it to calculate some kind of value about the entire group.\n",
    "\n",
    "You can combine GROUP BY with ORDER BY to group your results, calculate something about them, and then order your results. For example,\n",
    "\n",
    "SELECT sex, count(\\*)  \n",
    "FROM employees  \n",
    "GROUP BY sex  \n",
    "ORDER BY count DESC;"
   ]
  },
  {
   "cell_type": "markdown",
   "metadata": {},
   "source": [
    "## HAVING\n",
    "You can't use aggregate functions in a WHERE clause, so instead you need to use HAVING.\n",
    "\n",
    "Ex.  \n",
    "SELECT *  \n",
    "FROM films  \n",
    "HAVING AVG(budget) > 60000000;"
   ]
  },
  {
   "cell_type": "markdown",
   "metadata": {},
   "source": [
    "## Example of order of clauses\n",
    "\n",
    "SELECT release_year, AVG(budget) AS avg_budget, AVG(gross) AS avg_gross  \n",
    "FROM films  \n",
    "WHERE release_year > 1990   \n",
    "GROUP BY release_year  \n",
    "HAVING AVG(budget) > 60000000  \n",
    "ORDER BY AVG(gross) DESC;"
   ]
  }
 ],
 "metadata": {
  "kernelspec": {
   "display_name": "Python 3",
   "language": "python",
   "name": "python3"
  },
  "language_info": {
   "codemirror_mode": {
    "name": "ipython",
    "version": 3
   },
   "file_extension": ".py",
   "mimetype": "text/x-python",
   "name": "python",
   "nbconvert_exporter": "python",
   "pygments_lexer": "ipython3",
   "version": "3.6.0"
  }
 },
 "nbformat": 4,
 "nbformat_minor": 2
}
