{
 "cells": [
  {
   "cell_type": "code",
   "execution_count": 2,
   "metadata": {
    "collapsed": false
   },
   "outputs": [],
   "source": [
    "import numpy as np\n",
    "from sklearn.cluster import KMeans\n",
    "from scipy.cluster import vq"
   ]
  },
  {
   "cell_type": "code",
   "execution_count": 3,
   "metadata": {
    "collapsed": true
   },
   "outputs": [],
   "source": [
    "from scipy.io import arff\n",
    "data, meta = arff.loadarff('BreastCancerData.arff')"
   ]
  },
  {
   "cell_type": "code",
   "execution_count": null,
   "metadata": {
    "collapsed": false
   },
   "outputs": [],
   "source": [
    "print(data.shape)\n",
    "print(data)"
   ]
  },
  {
   "cell_type": "code",
   "execution_count": 28,
   "metadata": {
    "collapsed": false
   },
   "outputs": [
    {
     "name": "stdout",
     "output_type": "stream",
     "text": [
      "(683, 2)\n"
     ]
    }
   ],
   "source": [
    "Test = np.matrix(list(zip(data['age'],data['tumor-size'])))\n",
    "print(Test.shape)"
   ]
  },
  {
   "cell_type": "code",
   "execution_count": 16,
   "metadata": {
    "collapsed": false
   },
   "outputs": [
    {
     "data": {
      "image/png": "[encoded data removed]",
      "text/plain": [
       "<matplotlib.figure.Figure at 0x10efe1470>"
      ]
     },
     "metadata": {},
     "output_type": "display_data"
    }
   ],
   "source": [
    "import matplotlib.pyplot as plt\n",
    "plt.hist2d(data['age'], data['tumor-size'])\n",
    "plt.ylabel('some numbers')\n",
    "plt.show()"
   ]
  },
  {
   "cell_type": "markdown",
   "metadata": {},
   "source": [
    "frequency = np.zeros((1,10), dtype=int)\n",
    "print(frequency.size)\n",
    "\n",
    "for n in data['age']:\n",
    "    for j in range(10):\n",
    "        if (j+1) == n:\n",
    "            frequency[j] += 1\n",
    "    \n",
    "print(frequency)"
   ]
  },
  {
   "cell_type": "code",
   "execution_count": 17,
   "metadata": {
    "collapsed": false
   },
   "outputs": [
    {
     "name": "stdout",
     "output_type": "stream",
     "text": [
      "[[ 7.59259259  6.95833333]\n",
      " [ 2.98501071  1.48394004]]\n"
     ]
    }
   ],
   "source": [
    "coop = KMeans(n_clusters=2).fit_predict(Test)\n",
    "\n",
    "centroids, variance = vq.kmeans(Test,2)\n",
    "print(centroids)"
   ]
  },
  {
   "cell_type": "code",
   "execution_count": 18,
   "metadata": {
    "collapsed": false
   },
   "outputs": [
    {
     "data": {
      "image/png": "[encoded data removed]",
      "text/plain": [
       "<matplotlib.figure.Figure at 0x10ee8c940>"
      ]
     },
     "metadata": {},
     "output_type": "display_data"
    }
   ],
   "source": [
    "import pylab as pl\n",
    "\n",
    "for i in range(0, Test.shape[0]):\n",
    "    if coop[i] == 0:\n",
    "        c1 = pl.scatter(Test[i,0],Test[i,1],c='r',marker='+')\n",
    "    elif coop[i] == 1:\n",
    "        c2 = pl.scatter(Test[i,0],Test[i,1],c='g',marker='o')\n",
    "    #elif coop[i] == 2:\n",
    "        #c3 = pl.hist2d(Test[i,0],Test[i,1],c='b',marker='*')\n",
    "    #elif coop[i] == 3:\n",
    "        #c4 = pl.hist2d(Test[i,0],Test[i,1],c='#22222f',marker='.')\n",
    "    #elif coop[i] == 4:\n",
    "        #c5 = pl.hist2d(Test[i,0],Test[i,1],c='#daa520',marker='>')\n",
    "c6 = pl.scatter(centroids[:,0], centroids[:,1], c='#800000', marker='^')\n",
    "pl.legend([c1, c6],['Cluster 0',\n",
    "    'Centroids'])\n",
    "pl.title('K-means clusters Coop into 5 clusters')\n",
    "pl.show()\n"
   ]
  },
  {
   "cell_type": "code",
   "execution_count": 31,
   "metadata": {
    "collapsed": false
   },
   "outputs": [
    {
     "name": "stdout",
     "output_type": "stream",
     "text": [
      "[[ 7.335       7.295     ]\n",
      " [ 2.85714286  1.40786749]]\n"
     ]
    },
    {
     "data": {
      "image/png": "[encoded data removed]",
      "text/plain": [
       "<matplotlib.figure.Figure at 0x103120780>"
      ]
     },
     "metadata": {},
     "output_type": "display_data"
    }
   ],
   "source": [
    "newTest = Test.copy()\n",
    "\n",
    "for i in range(0, newTest.shape[0]):\n",
    "    if newTest[i,0] - newTest[i,1]>5:\n",
    "            #if newTest[i,0]<7:\n",
    "                newTest[i,0] = 0\n",
    "                newTest[i,1] = 0\n",
    "\n",
    "coop = KMeans(n_clusters=2).fit_predict(newTest)\n",
    "\n",
    "centroids, variance = vq.kmeans(newTest,2)\n",
    "print(centroids)\n",
    "\n",
    "for i in range(0, newTest.shape[0]):\n",
    "    if coop[i] == 0:\n",
    "        c1 = pl.scatter(newTest[i,0],newTest[i,1],c='r',marker='+')\n",
    "    elif coop[i] == 1:\n",
    "        c2 = pl.scatter(newTest[i,0],newTest[i,1],c='g',marker='o')\n",
    "\n",
    "        c6 = pl.scatter(centroids[:,0], centroids[:,1], c='#800000', marker='^')\n",
    "pl.legend([c1, c2, c6],['Cluster 0', 'Cluster 1'\n",
    "    'Centroids'])\n",
    "pl.title('K-means clusters Coop into 2 clusters')\n",
    "pl.show()\n"
   ]
  }
 ],
 "metadata": {
  "kernelspec": {
   "display_name": "Python 3",
   "language": "python",
   "name": "python3"
  },
  "language_info": {
   "codemirror_mode": {
    "name": "ipython",
    "version": 3
   },
   "file_extension": ".py",
   "mimetype": "text/x-python",
   "name": "python",
   "nbconvert_exporter": "python",
   "pygments_lexer": "ipython3",
   "version": "3.6.0"
  }
 },
 "nbformat": 4,
 "nbformat_minor": 2
}
