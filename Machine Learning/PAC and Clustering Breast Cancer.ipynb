{
 "cells": [
  {
   "cell_type": "code",
   "execution_count": 1,
   "metadata": {
    "collapsed": false
   },
   "outputs": [
    {
     "name": "stdout",
     "output_type": "stream",
     "text": [
      "(683, 10)\n",
      "3.15080527086\n",
      "[[  5.   5.   3.   6.   4.   8.   1.   2.   2.   4.   1.   2.   5.   1.\n",
      "    8.   7.   4.   4.  10.   6.   7.  10.   3.   1.   5.   3.   5.   2.\n",
      "    1.   3.   2.  10.   2.   3.   2.  10.   6.   5.   2.  10.   6.   5.\n",
      "   10.   1.   3.   1.   4.   7.   9.   5.  10.   5.  10.  10.   8.   8.\n",
      "    5.   9.   5.   1.   9.   6.   1.  10.   4.   5.   8.   1.   5.   6.\n",
      "    1.   9.  10.   1.   1.   5.   3.   2.   2.   4.   5.   3.   3.   5.\n",
      "    3.   3.   4.   2.   1.   3.   4.   1.   2.   1.   2.   5.   9.   7.\n",
      "   10.   2.   4.   8.  10.   7.  10.   1.   1.   6.   1.   8.  10.  10.\n",
      "    3.   1.   8.   4.   1.   3.   1.   4.  10.   5.   5.   1.   7.   3.\n",
      "    8.   1.   5.   2.   5.   3.   3.   5.   4.   3.   4.   3.   2.   9.\n",
      "    1.   2.   3.   1.   3.   8.   1.   7.  10.   4.   1.   5.   1.   2.\n",
      "    9.  10.   4.   3.   1.   4.   5.  10.   3.   1.   3.   1.   1.   6.\n",
      "    8.   5.   2.   5.   4.   5.   1.   1.   6.   5.   8.   2.   1.  10.\n",
      "    5.   1.  10.   7.   5.   1.   3.   4.   8.   5.   1.   3.   9.  10.\n",
      "    1.   5.   1.   5.  10.   1.   1.   5.   8.   8.   1.  10.  10.   8.\n",
      "    1.   1.   6.   6.   1.  10.   4.   7.  10.   1.  10.   8.   1.  10.\n",
      "    7.   6.   8.  10.   3.  10.   9.   8.  10.   5.   3.   2.   1.   1.\n",
      "    5.   8.   8.   4.   1.  10.   6.   6.   9.   5.   3.   3.   3.   5.\n",
      "   10.   5.   8.  10.   7.   5.  10.   3.  10.   1.   8.   5.   3.   7.\n",
      "    3.   3.   1.   1.  10.   3.   2.   1.  10.   7.   8.  10.   3.   6.\n",
      "    5.   1.   1.  10.   5.   5.   8.   9.   8.   1.  10.   1.   8.  10.\n",
      "    1.   1.   7.   3.   2.   1.   8.   1.   1.   5.   6.   1.   4.   7.\n",
      "    3.   5.   1.   3.  10.   1.   8.  10.  10.   5.   5.   5.   8.   1.\n",
      "    6.   1.   1.   8.  10.   1.   2.   1.   7.   1.   5.   1.   3.   4.\n",
      "    5.   2.   3.   2.   1.   4.   5.   8.   8.  10.   6.   3.   3.   4.\n",
      "    2.   2.   6.   5.   1.   1.   4.   1.   4.   5.   3.   1.   1.   1.\n",
      "    3.   5.   1.  10.   3.   2.   2.   3.   7.   5.   2.   5.   1.  10.\n",
      "    3.   1.   1.   3.   3.   4.   3.   1.   3.   3.   5.   3.   1.   1.\n",
      "    4.   1.   2.   3.   1.  10.   5.   8.   3.   8.   1.   5.   2.   3.\n",
      "   10.   4.   5.   3.   9.   5.   8.   1.   2.   1.   5.   5.   3.   6.\n",
      "   10.  10.   4.   4.   5.  10.   5.   1.   1.   5.   2.   1.   5.   1.\n",
      "    5.   4.   5.   3.   4.   2.  10.  10.   8.   5.   5.   5.   3.   6.\n",
      "    4.   4.  10.  10.   6.   4.   1.   3.   6.   6.   4.   5.   3.   4.\n",
      "    4.   5.   4.   5.   5.   9.   8.   5.   1.   3.  10.   3.   6.   1.\n",
      "    5.   4.   5.   5.   3.   1.   4.   4.   4.   6.   4.   4.   4.   1.\n",
      "    3.   8.   1.   5.   2.   1.   5.   5.   3.   6.   4.   1.   1.   3.\n",
      "    4.   1.   4.  10.   7.   3.   3.   4.   4.   6.   4.   7.   4.   1.\n",
      "    3.   2.   1.   5.   5.   4.   6.   5.   3.   5.   4.   2.   5.   6.\n",
      "    2.   3.   7.   3.   1.   3.   4.   3.   4.   5.   5.   2.   5.   5.\n",
      "    5.   1.   3.   4.   5.   3.   4.   8.  10.   8.   7.   3.   1.  10.\n",
      "    5.   5.   1.   1.   1.   5.   5.   6.   3.   5.   1.   8.   5.   9.\n",
      "    5.   4.   2.  10.   5.   4.   5.   4.   5.   3.   5.   3.   1.   4.\n",
      "    5.   5.  10.   4.   1.   5.   5.  10.   5.   8.   2.   2.   4.   3.\n",
      "    4.   5.   3.   6.   7.   1.   5.   3.   4.   2.   2.   4.   6.   5.\n",
      "    1.   8.   3.   3.  10.   4.   4.   5.   4.   3.   3.   1.   2.   3.\n",
      "    1.   1.   5.   3.   3.   1.   5.   4.   3.   3.   5.   5.   7.   1.\n",
      "    1.   4.   1.   1.   3.   1.   5.   3.   5.   5.   3.   3.   2.   5.\n",
      "    1.   4.   1.   5.   1.   2.  10.   5.   5.   1.   1.   1.   1.   3.\n",
      "    4.   1.   1.   5.   3.   3.   3.   2.   5.   4.   4.]]\n",
      "(10, 683)\n"
     ]
    }
   ],
   "source": [
    "import numpy as np\n",
    "from scipy.io import arff\n",
    "from sklearn.cluster import KMeans\n",
    "from scipy.cluster import vq\n",
    "import matplotlib.pyplot as plt\n",
    "\n",
    "data, meta = arff.loadarff('BreastCancerData.arff')\n",
    "\n",
    "datan = np.matrix(list(zip(data['Class'], data['age'],data['menopause'],data['tumor-size'], \n",
    "                             data['inv-nodes'], data['node-caps'], data['deg-malig'], \n",
    "                             data['breast'], data['breast-quad'], data['irradiat'])))\n",
    "print(datan.shape)\n",
    "print(np.mean(data['menopause']))\n",
    "dataNew = datan.T\n",
    "print(dataNew[1,:])\n",
    "\n",
    "print(dataNew.shape)"
   ]
  },
  {
   "cell_type": "code",
   "execution_count": 2,
   "metadata": {
    "collapsed": false,
    "scrolled": true
   },
   "outputs": [
    {
     "name": "stdout",
     "output_type": "stream",
     "text": [
      "[[ 0.34992679]\n",
      " [ 4.44216691]\n",
      " [ 3.15080527]\n",
      " [ 3.21522694]\n",
      " [ 2.83016105]\n",
      " [ 3.23426061]\n",
      " [ 3.54465593]\n",
      " [ 3.44509517]\n",
      " [ 2.86969253]\n",
      " [ 1.60322108]]\n"
     ]
    }
   ],
   "source": [
    "means = np.zeros((1,10), dtype=float)\n",
    "\n",
    "for i in range(10):\n",
    "        # Hardwired, need to change to be relative\n",
    "    means[0,i] = np.mean(dataNew[i, :])\n",
    "    \n",
    "print(means.reshape(1,10).T)\n"
   ]
  },
  {
   "cell_type": "code",
   "execution_count": 3,
   "metadata": {
    "collapsed": false
   },
   "outputs": [
    {
     "name": "stdout",
     "output_type": "stream",
     "text": [
      "[[  0.22781158   0.96234913   1.20081751   1.17237648   0.9656767\n",
      "    0.733155     1.43083172   0.8865429    1.04713121   0.35019085]\n",
      " [  0.96234913   7.95669442   5.55492201   5.5087998    3.94177619\n",
      "    3.2833626    6.09606145   3.82636548   4.59875785   1.7152892 ]\n",
      " [  1.20081751   5.55492201   9.39511299   8.31060356   6.20746835\n",
      "    5.13470844   7.72566047   5.67324809   6.73082356   2.44702086]\n",
      " [  1.17237648   5.5087998    8.31060356   8.93161531   5.87238464\n",
      "    4.79994676   7.77409909   5.38353521   6.55008093   2.28493622]\n",
      " [  0.9656767    3.94177619   6.20746835   5.87238464   8.20571654\n",
      "    3.78617922   7.00026406   4.69154111   5.27402395   2.07914024]\n",
      " [  0.733155     3.2833626    5.13470844   4.79994676   3.78617922\n",
      "    4.94210895   4.7446555    3.36625333   4.26810732   1.85115048]\n",
      " [  1.43083172   6.09606145   7.72566047   7.77409909   7.00026406\n",
      "    4.7446555   13.27769501   6.07540264   6.49922929   2.1416448 ]\n",
      " [  0.8865429    3.82636548   5.67324809   5.38353521   4.69154111\n",
      "    3.36625333   6.07540264   6.0010133    4.97743911   1.46865219]\n",
      " [  1.04713121   4.59875785   6.73082356   6.55008093   5.27402395\n",
      "    4.26810732   6.49922929   4.97743911   9.31877219   2.29426199]\n",
      " [  0.35019085   1.7152892    2.44702086   2.28493622   2.07914024\n",
      "    1.85115048   2.1416448    1.46865219   2.29426199   3.0021597 ]]\n"
     ]
    }
   ],
   "source": [
    "covMatrix = np.cov(dataNew)\n",
    "print(covMatrix)"
   ]
  },
  {
   "cell_type": "code",
   "execution_count": 4,
   "metadata": {
    "collapsed": false
   },
   "outputs": [
    {
     "name": "stdout",
     "output_type": "stream",
     "text": [
      "[  4.92360843e+01   5.11275435e+00   3.55263193e-02   4.30260247e+00\n",
      "   8.06828557e-01   3.15563285e+00   1.59571626e+00   1.79673158e+00\n",
      "   2.77058949e+00   2.44623377e+00]\n",
      "49.2360843206\n",
      "5.11275435083\n",
      "4.3026024718\n",
      "3.15563285376\n",
      "2.77058948832\n",
      "2.44623376861\n",
      "1.79673158032\n",
      "1.59571626351\n",
      "0.806828556851\n",
      "0.0355263192614\n"
     ]
    }
   ],
   "source": [
    "eigVal, eigVec = np.linalg.eig(covMatrix)\n",
    "\n",
    "print(eigVal)\n",
    "\n",
    "eigPairs = [(np.abs(eigVal[i]), eigVec[:,i]) for i in range(len(eigVal))]\n",
    "eigPairs.sort(key=lambda x: x[0], reverse = True)\n",
    "for i in eigPairs:\n",
    "    print(i[0])"
   ]
  },
  {
   "cell_type": "code",
   "execution_count": 5,
   "metadata": {
    "collapsed": false,
    "scrolled": true
   },
   "outputs": [
    {
     "name": "stdout",
     "output_type": "stream",
     "text": [
      "[[-0.0619355   0.01999117]\n",
      " [-0.29624902  0.07443633]\n",
      " [-0.4031563  -0.23047832]\n",
      " [-0.39197432 -0.16517133]\n",
      " [-0.33051002  0.09675054]\n",
      " [-0.24922357 -0.20062154]\n",
      " [-0.44188215  0.77976339]\n",
      " [-0.29151476 -0.00902866]\n",
      " [-0.35381044 -0.46954282]\n",
      " [-0.12429746 -0.18832198]]\n",
      "[[ -4.89986722 -14.18416685  -4.74925133 ..., -19.6750457  -15.82357502\n",
      "  -16.92151854]\n",
      " [ -0.23314791   4.51212531   0.39774281 ...,  -7.4834341   -2.70879245\n",
      "   -1.42415708]]\n"
     ]
    }
   ],
   "source": [
    "matrixW = np.hstack((eigPairs[0][1].reshape(10,1), eigPairs[1][1].reshape(10,1)))\n",
    "    # Matrix of the value corresponding to the key of the eigenvalue we choose\n",
    "    # Here, we picked k=1\n",
    "print(matrixW)\n",
    "newSample = matrixW.T.dot(dataNew)\n",
    "print(newSample)"
   ]
  },
  {
   "cell_type": "code",
   "execution_count": 6,
   "metadata": {
    "collapsed": false,
    "scrolled": true
   },
   "outputs": [
    {
     "data": {
      "image/png": "[encoded data removed]",
      "text/plain": [
       "<matplotlib.figure.Figure at 0x10b2620b8>"
      ]
     },
     "metadata": {},
     "output_type": "display_data"
    }
   ],
   "source": [
    "samplePlot = plt.figure(figsize=(10,10))\n",
    "    # Changes how large the plot is to see things\n",
    "#ax = samplePlot.add_subplot(111, projection='3d')\n",
    "    # Creates 3 axis' in 3d\n",
    "#plt.rcParams['legend.fontsize'] = 10   \n",
    "plt.plot(newSample[0,:], newSample[1,:], 'o', markersize=8, color='blue', alpha=0.5)\n",
    "#ax.plot(newSample[0,:], newSample[1,:], newSample[2,:], '^', markersize=8, alpha=0.5, color='red', label='class 2')\n",
    "    #Plots the x,y,and z of each sample in the different clases\n",
    "\n",
    "#plt.ylim([-5,5])\n",
    "\n",
    "plt.title('Samples for class 1 and class 2')\n",
    "#ax.legend(loc='upper right')\n",
    "plt.show()"
   ]
  },
  {
   "cell_type": "code",
   "execution_count": 7,
   "metadata": {
    "collapsed": false,
    "scrolled": true
   },
   "outputs": [
    {
     "name": "stdout",
     "output_type": "stream",
     "text": [
      "(683, 2)\n",
      "[[-15.8582716    3.60186317]\n",
      " [-10.17807408  -1.20103211]\n",
      " [-18.2466479   -4.67611334]\n",
      " [ -4.37637246  -0.33610572]\n",
      " [-22.26032352  -0.08402956]]\n"
     ]
    }
   ],
   "source": [
    "newS = newSample.T\n",
    "print(newS.shape)\n",
    "\n",
    "coop = KMeans(n_clusters=5).fit_predict(newS)\n",
    "centroids, variance = vq.kmeans(newS,5)\n",
    "print(centroids)"
   ]
  },
  {
   "cell_type": "code",
   "execution_count": 8,
   "metadata": {
    "collapsed": false
   },
   "outputs": [
    {
     "name": "stdout",
     "output_type": "stream",
     "text": [
      "(104,)\n",
      "-14.459763218\n"
     ]
    }
   ],
   "source": [
    "denseCluster = np.array([])\n",
    "for i in range(0, newS.shape[0]):\n",
    "    if coop[i] ==4:\n",
    "        denseCluster = np.append(denseCluster, (newS[i,0], newS[i,1]))\n",
    "\n",
    "print(denseCluster.shape)\n",
    "print(denseCluster[0])"
   ]
  },
  {
   "cell_type": "code",
   "execution_count": 9,
   "metadata": {
    "collapsed": false,
    "scrolled": true
   },
   "outputs": [
    {
     "data": {
      "image/png": "[encoded data removed]",
      "text/plain": [
       "<matplotlib.figure.Figure at 0x10b262588>"
      ]
     },
     "metadata": {},
     "output_type": "display_data"
    }
   ],
   "source": [
    "import pylab as pl\n",
    "\n",
    "plt.figure(figsize=(15,15))\n",
    "for i in range(0, newS.shape[0]):\n",
    "    if coop[i] == 0:\n",
    "        c1 = pl.scatter(newS[i,0], newS[i,1], c='r',marker='+')\n",
    "    elif coop[i] == 1:\n",
    "        c2 = pl.scatter(newS[i,0], newS[i,1], c='g',marker='o')\n",
    "    elif coop[i] == 2:\n",
    "        c3 = pl.scatter(newS[i,0],newS[i,1], c='b',marker='*')\n",
    "    elif coop[i] == 3:\n",
    "        c4 = pl.scatter(newS[i,0], newS[i,1], c='#22222f',marker='.')\n",
    "    elif coop[i] == 4:\n",
    "        c5 = pl.scatter(newS[i,0], newS[i,1], c='#daa520',marker='>')\n",
    "c6 = pl.scatter(centroids[:,0], centroids[:,1], c='#800000', marker='^')\n",
    "pl.legend([c1, c2, c3, c4, c5, c6],['Cluster 0', 'Cluster 1', 'Cluster 2', 'Cluster 3', 'Cluster 4',\n",
    "    'Centroids'])\n",
    "pl.title('K-means clusters Coop into 5 clusters')\n",
    "pl.show()"
   ]
  },
  {
   "cell_type": "code",
   "execution_count": 10,
   "metadata": {
    "collapsed": false
   },
   "outputs": [
    {
     "name": "stdout",
     "output_type": "stream",
     "text": [
      "Help on function plot in module matplotlib.pyplot:\n",
      "\n",
      "plot(*args, **kwargs)\n",
      "    Plot lines and/or markers to the\n",
      "    :class:`~matplotlib.axes.Axes`.  *args* is a variable length\n",
      "    argument, allowing for multiple *x*, *y* pairs with an\n",
      "    optional format string.  For example, each of the following is\n",
      "    legal::\n",
      "    \n",
      "        plot(x, y)        # plot x and y using default line style and color\n",
      "        plot(x, y, 'bo')  # plot x and y using blue circle markers\n",
      "        plot(y)           # plot y using x as index array 0..N-1\n",
      "        plot(y, 'r+')     # ditto, but with red plusses\n",
      "    \n",
      "    If *x* and/or *y* is 2-dimensional, then the corresponding columns\n",
      "    will be plotted.\n",
      "    \n",
      "    If used with labeled data, make sure that the color spec is not\n",
      "    included as an element in data, as otherwise the last case\n",
      "    ``plot(\"v\",\"r\", data={\"v\":..., \"r\":...)``\n",
      "    can be interpreted as the first case which would do ``plot(v, r)``\n",
      "    using the default line style and color.\n",
      "    \n",
      "    If not used with labeled data (i.e., without a data argument),\n",
      "    an arbitrary number of *x*, *y*, *fmt* groups can be specified, as in::\n",
      "    \n",
      "        a.plot(x1, y1, 'g^', x2, y2, 'g-')\n",
      "    \n",
      "    Return value is a list of lines that were added.\n",
      "    \n",
      "    By default, each line is assigned a different style specified by a\n",
      "    'style cycle'.  To change this behavior, you can edit the\n",
      "    axes.prop_cycle rcParam.\n",
      "    \n",
      "    The following format string characters are accepted to control\n",
      "    the line style or marker:\n",
      "    \n",
      "    ================    ===============================\n",
      "    character           description\n",
      "    ================    ===============================\n",
      "    ``'-'``             solid line style\n",
      "    ``'--'``            dashed line style\n",
      "    ``'-.'``            dash-dot line style\n",
      "    ``':'``             dotted line style\n",
      "    ``'.'``             point marker\n",
      "    ``','``             pixel marker\n",
      "    ``'o'``             circle marker\n",
      "    ``'v'``             triangle_down marker\n",
      "    ``'^'``             triangle_up marker\n",
      "    ``'<'``             triangle_left marker\n",
      "    ``'>'``             triangle_right marker\n",
      "    ``'1'``             tri_down marker\n",
      "    ``'2'``             tri_up marker\n",
      "    ``'3'``             tri_left marker\n",
      "    ``'4'``             tri_right marker\n",
      "    ``'s'``             square marker\n",
      "    ``'p'``             pentagon marker\n",
      "    ``'*'``             star marker\n",
      "    ``'h'``             hexagon1 marker\n",
      "    ``'H'``             hexagon2 marker\n",
      "    ``'+'``             plus marker\n",
      "    ``'x'``             x marker\n",
      "    ``'D'``             diamond marker\n",
      "    ``'d'``             thin_diamond marker\n",
      "    ``'|'``             vline marker\n",
      "    ``'_'``             hline marker\n",
      "    ================    ===============================\n",
      "    \n",
      "    \n",
      "    The following color abbreviations are supported:\n",
      "    \n",
      "    ==========  ========\n",
      "    character   color\n",
      "    ==========  ========\n",
      "    'b'         blue\n",
      "    'g'         green\n",
      "    'r'         red\n",
      "    'c'         cyan\n",
      "    'm'         magenta\n",
      "    'y'         yellow\n",
      "    'k'         black\n",
      "    'w'         white\n",
      "    ==========  ========\n",
      "    \n",
      "    In addition, you can specify colors in many weird and\n",
      "    wonderful ways, including full names (``'green'``), hex\n",
      "    strings (``'#008000'``), RGB or RGBA tuples (``(0,1,0,1)``) or\n",
      "    grayscale intensities as a string (``'0.8'``).  Of these, the\n",
      "    string specifications can be used in place of a ``fmt`` group,\n",
      "    but the tuple forms can be used only as ``kwargs``.\n",
      "    \n",
      "    Line styles and colors are combined in a single format string, as in\n",
      "    ``'bo'`` for blue circles.\n",
      "    \n",
      "    The *kwargs* can be used to set line properties (any property that has\n",
      "    a ``set_*`` method).  You can use this to set a line label (for auto\n",
      "    legends), linewidth, anitialising, marker face color, etc.  Here is an\n",
      "    example::\n",
      "    \n",
      "        plot([1,2,3], [1,2,3], 'go-', label='line 1', linewidth=2)\n",
      "        plot([1,2,3], [1,4,9], 'rs',  label='line 2')\n",
      "        axis([0, 4, 0, 10])\n",
      "        legend()\n",
      "    \n",
      "    If you make multiple lines with one plot command, the kwargs\n",
      "    apply to all those lines, e.g.::\n",
      "    \n",
      "        plot(x1, y1, x2, y2, antialiased=False)\n",
      "    \n",
      "    Neither line will be antialiased.\n",
      "    \n",
      "    You do not need to use format strings, which are just\n",
      "    abbreviations.  All of the line properties can be controlled\n",
      "    by keyword arguments.  For example, you can set the color,\n",
      "    marker, linestyle, and markercolor with::\n",
      "    \n",
      "        plot(x, y, color='green', linestyle='dashed', marker='o',\n",
      "             markerfacecolor='blue', markersize=12).\n",
      "    \n",
      "    See :class:`~matplotlib.lines.Line2D` for details.\n",
      "    \n",
      "    The kwargs are :class:`~matplotlib.lines.Line2D` properties:\n",
      "    \n",
      "      agg_filter: unknown\n",
      "      alpha: float (0.0 transparent through 1.0 opaque) \n",
      "      animated: [True | False] \n",
      "      antialiased or aa: [True | False] \n",
      "      axes: an :class:`~matplotlib.axes.Axes` instance \n",
      "      clip_box: a :class:`matplotlib.transforms.Bbox` instance \n",
      "      clip_on: [True | False] \n",
      "      clip_path: [ (:class:`~matplotlib.path.Path`, :class:`~matplotlib.transforms.Transform`) | :class:`~matplotlib.patches.Patch` | None ] \n",
      "      color or c: any matplotlib color \n",
      "      contains: a callable function \n",
      "      dash_capstyle: ['butt' | 'round' | 'projecting'] \n",
      "      dash_joinstyle: ['miter' | 'round' | 'bevel'] \n",
      "      dashes: sequence of on/off ink in points \n",
      "      drawstyle: ['default' | 'steps' | 'steps-pre' | 'steps-mid' | 'steps-post'] \n",
      "      figure: a :class:`matplotlib.figure.Figure` instance \n",
      "      fillstyle: ['full' | 'left' | 'right' | 'bottom' | 'top' | 'none'] \n",
      "      gid: an id string \n",
      "      label: string or anything printable with '%s' conversion. \n",
      "      linestyle or ls: ['solid' | 'dashed', 'dashdot', 'dotted' | (offset, on-off-dash-seq) | ``'-'`` | ``'--'`` | ``'-.'`` | ``':'`` | ``'None'`` | ``' '`` | ``''``]\n",
      "      linewidth or lw: float value in points \n",
      "      marker: :mod:`A valid marker style <matplotlib.markers>`\n",
      "      markeredgecolor or mec: any matplotlib color \n",
      "      markeredgewidth or mew: float value in points \n",
      "      markerfacecolor or mfc: any matplotlib color \n",
      "      markerfacecoloralt or mfcalt: any matplotlib color \n",
      "      markersize or ms: float \n",
      "      markevery: [None | int | length-2 tuple of int | slice | list/array of int | float | length-2 tuple of float]\n",
      "      path_effects: unknown\n",
      "      picker: float distance in points or callable pick function ``fn(artist, event)`` \n",
      "      pickradius: float distance in points \n",
      "      rasterized: [True | False | None] \n",
      "      sketch_params: unknown\n",
      "      snap: unknown\n",
      "      solid_capstyle: ['butt' | 'round' |  'projecting'] \n",
      "      solid_joinstyle: ['miter' | 'round' | 'bevel'] \n",
      "      transform: a :class:`matplotlib.transforms.Transform` instance \n",
      "      url: a url string \n",
      "      visible: [True | False] \n",
      "      xdata: 1D array \n",
      "      ydata: 1D array \n",
      "      zorder: any number \n",
      "    \n",
      "    kwargs *scalex* and *scaley*, if defined, are passed on to\n",
      "    :meth:`~matplotlib.axes.Axes.autoscale_view` to determine\n",
      "    whether the *x* and *y* axes are autoscaled; the default is\n",
      "    *True*.\n",
      "    \n",
      "    .. note::\n",
      "        In addition to the above described arguments, this function can take a\n",
      "        **data** keyword argument. If such a **data** argument is given, the\n",
      "        following arguments are replaced by **data[<arg>]**:\n",
      "    \n",
      "        * All arguments with the following names: 'x', 'y'.\n",
      "\n"
     ]
    }
   ],
   "source": [
    "help(plt.plot)"
   ]
  }
 ],
 "metadata": {
  "kernelspec": {
   "display_name": "Python 3",
   "language": "python",
   "name": "python3"
  },
  "language_info": {
   "codemirror_mode": {
    "name": "ipython",
    "version": 3
   },
   "file_extension": ".py",
   "mimetype": "text/x-python",
   "name": "python",
   "nbconvert_exporter": "python",
   "pygments_lexer": "ipython3",
   "version": "3.6.0"
  }
 },
 "nbformat": 4,
 "nbformat_minor": 2
}
