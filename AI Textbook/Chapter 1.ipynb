{
 "cells": [
  {
   "cell_type": "markdown",
   "metadata": {},
   "source": [
    "### Artificial Intelligence: A Modern Approach, 3e"
   ]
  },
  {
   "cell_type": "markdown",
   "metadata": {},
   "source": [
    "# 1. What is AI\n",
    "\n",
    "AI has many definitions that vary. Consists of Thinking Humanly, Thinking Rationally, Acting Humanly, and Acting Rationally.\n",
    "\n",
    "## Acting Humanly - Turning Test\n",
    "\n",
    "The Turning Test is passed if a human interrogator cannot tell if the written responses come from a human or a computer. To pass this test, the computer would need NLP, knowledge representation, automated reasoning, and machine learning.\n",
    "\n",
    "This test does not require pyhsical interraction between human and machine.\n",
    "\n",
    "The Total Turing Test does require this. So, to pass, a machine must be able to act human enough to convince a human. It would need computer vision and robotics.\n",
    "\n",
    "## Thinking Humanly - Cognitive Modeling Approach\n",
    "\n",
    "To know if something thinks like a human, you first have to know how humans think. Either through introspection, psychologica experiments, or brain imaging.\n",
    "\n",
    "The field of **cognitive science** brings together computer models from AI and experimental techniques from psychology to make precise and testable theories of the human mind.\n",
    "\n",
    "## Thinking Rationally - The \"Laws of Thought\" Approach\n",
    "\n",
    "Can be computationally exauhsting to the computer. Logical is also hard to teach because how logical? Even logical humans are prone to errors.\n",
    "\n",
    "## Acting Ratioanlly - Rational Agent Approach\n",
    "\n",
    "An agent is something that acts. Computer agents are expected to operate autonomously, perceive their environment, persist over a long time, adapt to change, and create/pursue goals. A ratio agency does all this to achieve the best expected outcome."
   ]
  },
  {
   "cell_type": "markdown",
   "metadata": {},
   "source": [
    "# 2. Foundations of AI\n",
    "\n",
    "## Philosophy\n",
    "Aristotle was the first to have a precise set of laws governing rationality.\n",
    "\n",
    "## Mathematics\n",
    "\n",
    "The first non-trivial algorithm is Euclid's algorithm for computing greatest common divisors\n",
    "\n",
    "## Economics\n",
    "\n",
    "## Neroscience\n",
    "\n",
    "## Psychology\n",
    "\n",
    "## Computer Engineering\n",
    "\n",
    "First operational computer was the Heath Robinson in 1940, built to decifer German messages.\n",
    "\n",
    "## Control Theory and Cybernetics\n",
    "\n",
    "## Linguistics\n",
    "\n",
    "How does language relate to thought? Relates to AI in NLP"
   ]
  },
  {
   "cell_type": "markdown",
   "metadata": {},
   "source": [
    "# 3. The History of AI\n",
    "\n",
    "## 1943 - 1955\n",
    "\n",
    "1943, a model of artificial neurons where each neuron is characterized as being \"on\" or \"off\" with the switch to \"on\" occuring in response to stimulation by a sufficient number of neighboring neurons.\n",
    "\n",
    "First neural network computer waws built in 1950.\n",
    "\n",
    "## 1956 - Birth of AI\n",
    "\n",
    "Ten man, 2 month workshop in 1956 At Dartmouth College. This didn't lead to any breakthroughs, but it introduced everyone.\n",
    "\n",
    "## 1952 - 1969, Early enthusiasm\n",
    "\n",
    "GPS, or General Problem Solver, was the first program designed to imitate human problem-solving protocols.\n",
    "\n",
    "Generally begin by having computers write mathematical proofs. Then, creating programs that learned how to play checkers better than its creators.\n",
    "\n",
    "## 1966-1973, A Dose of Reality\n",
    "\n",
    "AI evolution took longer than anticipated. The methods used work well on straight forward problems, but most problems are not straight forward. For example, language processing requires context.\n",
    "\n",
    "Beginning problems worked by trying out a combination of steps until the answer was found. Fine for trivial, but the number of steps increasing can result in impossible computing times.\n",
    "\n",
    "The failure to create amazing things quickly along with misleading bad press resulted in a loss of faith and funding from many businesses and governments. \n",
    "\n",
    "## 1969 - 1979, Knowledge-Based Systems\n",
    "\n",
    "Begin introducing systems that weren't just general. Ones that have domain-specific knowledge inserted into them. Considered expert systems. They also can include uncertainty, not just boolean yes and no.\n",
    "\n",
    "## 1987 - Current, AI Adopts the Scientific Method\n",
    "\n",
    "To be accepted, hypotheses must be subjected to rigorous empirical experiments and results must be statistically analyzed for their importance.\n",
    "\n",
    "## Last 20 Years\n",
    "\n",
    "There is critisism of creating programs and models that are increasingly specific. Some call for a return to general problems solving and creating a brain that thinks."
   ]
  },
  {
   "cell_type": "markdown",
   "metadata": {},
   "source": [
    "# 4. The State of the Art\n",
    "\n",
    "Examples of AI\n",
    "* Robotic vehicles\n",
    "* Speech recognition\n",
    "* Autonomous planning and scheduling\n",
    "* Game playing\n",
    "* SPAM fighting\n",
    "* Logistic planning\n",
    "* Robotics\n",
    "* Machine Translation"
   ]
  }
 ],
 "metadata": {
  "kernelspec": {
   "display_name": "Python 3",
   "language": "python",
   "name": "python3"
  },
  "language_info": {
   "codemirror_mode": {
    "name": "ipython",
    "version": 3
   },
   "file_extension": ".py",
   "mimetype": "text/x-python",
   "name": "python",
   "nbconvert_exporter": "python",
   "pygments_lexer": "ipython3",
   "version": "3.6.0"
  }
 },
 "nbformat": 4,
 "nbformat_minor": 2
}
