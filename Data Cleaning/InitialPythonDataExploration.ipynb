{
 "cells": [
  {
   "cell_type": "markdown",
   "metadata": {},
   "source": [
    "# Overview\n",
    "\n",
    "A comphrehensive list of commands to do initial exploration of data. Not all will work for all data. The examples listed are in data frames, which I like to use, and may/probably won't translate to other data structures.\n",
    "\n",
    "Listed will be the command, what its output should be, what it means, and an example. The initial data in the cell below must be loaded first before loading any examples. \n",
    "\n",
    "Make sure that pydataset is installed if it does not load correctly.\n",
    "\n",
    "`$pip install pydataset`"
   ]
  },
  {
   "cell_type": "code",
   "execution_count": 2,
   "metadata": {
    "collapsed": false
   },
   "outputs": [
    {
     "name": "stdout",
     "output_type": "stream",
     "text": [
      "Index(['class', 'age', 'sex', 'survived'], dtype='object')\n"
     ]
    }
   ],
   "source": [
    "from pydataset import data\n",
    "\n",
    "titanic = data('titanic')\n",
    "print(titanic.columns)"
   ]
  },
  {
   "cell_type": "markdown",
   "metadata": {},
   "source": [
    "## .shape\n",
    "\n",
    "**Output**:  \n",
    "The dimensions of the dataframe. So, height and width generally. IE, number of rows by number of columns.\n",
    "\n",
    "**What it's Good For**:  \n",
    "Inital sizing, seeing how big it's going to be.\n",
    "\n",
    "**Cons**:  \n",
    "None."
   ]
  },
  {
   "cell_type": "code",
   "execution_count": null,
   "metadata": {
    "collapsed": false
   },
   "outputs": [],
   "source": [
    "print(\"Data's size: \\n\", titanic.shape)"
   ]
  },
  {
   "cell_type": "markdown",
   "metadata": {},
   "source": [
    "## .head( n=5 )\n",
    "\n",
    "Easiest.\n",
    "\n",
    "**Output**:  \n",
    "When no arguments are passed, returns the first five rows of the dataframe. If an integer ***n*** is passed as an argument, will return the first ***n*** rows.\n",
    "\n",
    "**What it's Good For**:  \n",
    "When you just want to see what the dataset looks like without being overwhelmed by the size. An easy way to see what possible values could be.\n",
    "\n",
    "**Cons**:  \n",
    "Can be misleading in that it returns the first n rows. This data does not represent the whole and it's values will likely be heavily skewed and should not be considered a random sample."
   ]
  },
  {
   "cell_type": "code",
   "execution_count": 3,
   "metadata": {
    "collapsed": false
   },
   "outputs": [
    {
     "name": "stdout",
     "output_type": "stream",
     "text": [
      "First five rows: \n",
      "        class     age  sex survived\n",
      "1  1st class  adults  man      yes\n",
      "2  1st class  adults  man      yes\n",
      "3  1st class  adults  man      yes\n",
      "4  1st class  adults  man      yes\n",
      "5  1st class  adults  man      yes\n",
      "\n",
      "First ten rows: \n",
      "         class     age  sex survived\n",
      "1   1st class  adults  man      yes\n",
      "2   1st class  adults  man      yes\n",
      "3   1st class  adults  man      yes\n",
      "4   1st class  adults  man      yes\n",
      "5   1st class  adults  man      yes\n",
      "6   1st class  adults  man      yes\n",
      "7   1st class  adults  man      yes\n",
      "8   1st class  adults  man      yes\n",
      "9   1st class  adults  man      yes\n",
      "10  1st class  adults  man      yes\n"
     ]
    }
   ],
   "source": [
    "print(\"First five rows: \\n\", titanic.head())\n",
    "print(\"\\nFirst ten rows: \\n\", titanic.head(10))"
   ]
  },
  {
   "cell_type": "markdown",
   "metadata": {},
   "source": [
    "## .columns\n",
    "\n",
    "**Output**:  \n",
    "The columns of the dataframe. These are usually considered the features.\n",
    "\n",
    "**What it's Good For**:  \n",
    "Quickly viewing the possible features of a dataset, especially when there are many. You can then select with features you want to keep and pare down the dataset for faster loading times.\n",
    "\n",
    "**Cons**:  \n",
    "It's possible that the dataset is a mess and the column labels are not representative of the data contained."
   ]
  },
  {
   "cell_type": "code",
   "execution_count": 1,
   "metadata": {
    "collapsed": false
   },
   "outputs": [
    {
     "ename": "NameError",
     "evalue": "name 'titanic' is not defined",
     "output_type": "error",
     "traceback": [
      "\u001b[0;31m---------------------------------------------------------------------------\u001b[0m",
      "\u001b[0;31mNameError\u001b[0m                                 Traceback (most recent call last)",
      "\u001b[0;32m<ipython-input-1-7c87cd8e696d>\u001b[0m in \u001b[0;36m<module>\u001b[0;34m()\u001b[0m\n\u001b[0;32m----> 1\u001b[0;31m \u001b[0mprint\u001b[0m\u001b[0;34m(\u001b[0m\u001b[0;34m\"The columns of the data: \\n\"\u001b[0m\u001b[0;34m,\u001b[0m \u001b[0mtitanic\u001b[0m\u001b[0;34m.\u001b[0m\u001b[0mcolumns\u001b[0m\u001b[0;34m)\u001b[0m\u001b[0;34m\u001b[0m\u001b[0m\n\u001b[0m",
      "\u001b[0;31mNameError\u001b[0m: name 'titanic' is not defined"
     ]
    }
   ],
   "source": [
    "print(\"The columns of the data: \\n\", titanic.columns)"
   ]
  },
  {
   "cell_type": "markdown",
   "metadata": {},
   "source": [
    "## .isnull( ) / .notnull( )\n",
    "\n",
    "**Output**:  \n",
    "Returns dataset composed of booleans indicating whether or not a value is null.\n",
    "\n",
    "**What it's Good For**:  \n",
    "if statements where you want to check is something is null. Best for passing a single value.\n",
    "\n",
    "**Cons**:  \n",
    "Is you want to see if you have any null values, you would have to look through the entire dataset."
   ]
  },
  {
   "cell_type": "code",
   "execution_count": null,
   "metadata": {
    "collapsed": false
   },
   "outputs": [],
   "source": [
    "print(\"Entire dataset:\\n\", titanic.isnull())"
   ]
  },
  {
   "cell_type": "markdown",
   "metadata": {},
   "source": [
    "## .describe( )\n",
    "***.describe( percentiles=None, include=None, exclude=None )***\n",
    "\n",
    "**Output**:  \n",
    "Varies depending on what is provided and the data's values. Generally descriptive statistics that summarize the dispension and state of the dataset's distribution. Does not include NAN values!\n",
    "\n",
    "**What it's Good For**:  \n",
    "Getting an idea of the scale of the data, possible number of feature values, highest frequency values, etc. Can't expect to get everything, but it provides a little glimpse.\n",
    "\n",
    "**Cons**:  \n",
    "Ouput depends on input. So, you can't be sure what information you will get in response. This can be seen in the example where there is not enough of a variance in data to provide different responses when changing the parameters becuase those options are not shown with the titanic data."
   ]
  },
  {
   "cell_type": "code",
   "execution_count": null,
   "metadata": {
    "collapsed": false
   },
   "outputs": [],
   "source": [
    "print(\"Describe: \\n\", titanic.describe())\n",
    "print(\"\\nDescibe with all columns: \\n\", titanic.describe(include='all'))\n",
    "print(\"\\nDescribe with different percentiles: \\n\", titanic.describe(percentiles=[.2, .4, .6, .8]))"
   ]
  },
  {
   "cell_type": "markdown",
   "metadata": {},
   "source": [
    "## .info( )\n",
    "***.info(verbose=None, buf=None, max_cols=None, memory_usage=None, null_counts=None)***\n",
    "\n",
    "**Output**:  \n",
    "A summary of the dataframe.\n",
    "\n",
    "**What it's Good For**:  \n",
    "Checking to see if there are null objects that need to be cleaned, seeing datatypes of the values. In the example, we can see that all data features are objects, even though age sounds like it should be an int. This gives the clue that maybe we should examine this column more closely and make sure it represents what we *think* it represents.\n",
    "\n",
    "**Cons**:  \n",
    "None really that I can think of."
   ]
  },
  {
   "cell_type": "code",
   "execution_count": null,
   "metadata": {
    "collapsed": false,
    "scrolled": true
   },
   "outputs": [],
   "source": [
    "print(\"Inital info: \\n\", titanic.info())"
   ]
  },
  {
   "cell_type": "markdown",
   "metadata": {},
   "source": [
    "## .sort_values( by )\n",
    "***.sort_values( by, axis=0, ascending=True, inplace=False, kind='quicksort', na_position='last' )***\n",
    "\n",
    "**Output**:  \n",
    "Sorts the data by the columns passed in **by**.\n",
    "\n",
    "**What it's Good For**:  \n",
    "Viewing the extremes of the dataset and visually finding the data you want more quickly. \n",
    "\n",
    "**Cons**:  \n",
    "Can get confusing suprisingly enough."
   ]
  },
  {
   "cell_type": "code",
   "execution_count": null,
   "metadata": {
    "collapsed": false
   },
   "outputs": [],
   "source": [
    "print(\"Sorted by class descending and age ascending: \\n\",\n",
    "     titanic.sort_values(['class', 'age'], ascending=[False, True]))"
   ]
  },
  {
   "cell_type": "markdown",
   "metadata": {},
   "source": [
    "## .groupby( )\n",
    "***.groupby(by=None, axis=0, level=None, as_index=True, sort=True, group_keys=True, squeeze=False)***\n",
    "\n",
    "__Output__:  \n",
    "Filters the data set by the group by. So, kinda like splitting the data into groups and then providing the computation on each of these groups.\n",
    "\n",
    "**What it's Good For**:  \n",
    "When you want to analyze by category. \"For each\" question. Use it to calculate simple things like sim, average, count, etc.\n",
    "\n",
    "**Cons**:  \n",
    "Returns a GroupBy object which would have to be converted back into a dataframe if that's how you want to manipulate the data. Which is annoying."
   ]
  },
  {
   "cell_type": "code",
   "execution_count": null,
   "metadata": {
    "collapsed": false
   },
   "outputs": [],
   "source": [
    "print(\"Most freq of survival outcome for all:\\n\",\n",
    "      titanic['survived'].value_counts())\n",
    "\n",
    "#Orders the result in descending order\n",
    "print(\"\\nThe freq of survival outcome for all grouped by class:\\n\",\n",
    "      titanic.groupby('class')['survived'].value_counts())\n",
    "\n",
    "#Does not change the order of the data\n",
    "print(\"\\nSame as above in a different way:\\n\",\n",
    "      titanic.groupby(['class', 'survived']).size())"
   ]
  },
  {
   "cell_type": "markdown",
   "metadata": {},
   "source": [
    "**Output**:  \n",
    "hfds fdsjnkcl dish kj dhd ilhdasdjh \n",
    "\n",
    "**What it's Good For**:  \n",
    "hfds fdsjnkcl dish kj dhd ilhdasdjh \n",
    "\n",
    "**Cons**:  \n",
    "hfds fdsjnkcl dish kj dhd ilhdasdjh "
   ]
  }
 ],
 "metadata": {
  "kernelspec": {
   "display_name": "Python 3",
   "language": "python",
   "name": "python3"
  },
  "language_info": {
   "codemirror_mode": {
    "name": "ipython",
    "version": 3
   },
   "file_extension": ".py",
   "mimetype": "text/x-python",
   "name": "python",
   "nbconvert_exporter": "python",
   "pygments_lexer": "ipython3",
   "version": "3.6.0"
  }
 },
 "nbformat": 4,
 "nbformat_minor": 2
}
