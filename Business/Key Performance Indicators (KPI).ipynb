{
 "cells": [
  {
   "cell_type": "markdown",
   "metadata": {},
   "source": [
    "# What are They\n",
    "\n",
    "Metrics that help managers and employees gauge how well something is performing. A consistent measure. They are linked to a firm's strategic goals and help everyone assess if they're on target or not.\n",
    "\n",
    "\n",
    "# Examples\n",
    "\n",
    "- Sales team tracks new revenue, total revenue, new customer capture, average deal size, and deal pipeline size to assess progress towards corporate revenue targets\n",
    "- Customer support team might measure average on hold time for customers and percent of calls that had a high survey rating.\n",
    "\n",
    "\n",
    "# Leading vs Lagging\n",
    "\n",
    "__lagging__: Tell how you have performed\n",
    "\n",
    "__leading__: Offer guidance for future results. For example, improvement in employee engagement is likely to forecast improvement in other KPIs including customer satisfaction, innovation, and overall participation.\n",
    "\n",
    "# 6 Challenges in Developing KPIs\n",
    "1. If firm's straegy and goals aren't clear, the KPIs can't be either, so they will probably focus on financial measures which may not be a direct results of actions.\n",
    "2. Too much reliance on financial results in inbalanced and incomplete evaluations\n",
    "3. How important a KPI is is totally up to anyone\n",
    "4. If compensation is offered for a key target, there is now bias and you may not get the result you want\n",
    "5. Identifying what KPIs are worthwhile is annoying and hard\n",
    "6. Being able to accurately measure KPIs may be impossible."
   ]
  }
 ],
 "metadata": {
  "kernelspec": {
   "display_name": "Python 3",
   "language": "python",
   "name": "python3"
  },
  "language_info": {
   "codemirror_mode": {
    "name": "ipython",
    "version": 3
   },
   "file_extension": ".py",
   "mimetype": "text/x-python",
   "name": "python",
   "nbconvert_exporter": "python",
   "pygments_lexer": "ipython3",
   "version": "3.6.0"
  }
 },
 "nbformat": 4,
 "nbformat_minor": 2
}
