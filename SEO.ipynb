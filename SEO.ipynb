{
 "cells": [
  {
   "cell_type": "markdown",
   "metadata": {},
   "source": [
    "# What is it?\n",
    "Search Engine Optomization. Making your site as readable to google as possible.\n",
    "\n",
    "A tons of factors can go into making your site one of the top Google sites, and the algorithm to determine rankings or positions on the page changes all the time."
   ]
  },
  {
   "cell_type": "markdown",
   "metadata": {},
   "source": [
    "# Optomizing Content\n",
    "\n",
    "There are a lot of factors that can be altered to change how content is rated by google including quality, the amount of time a user spends on the page, keywords used (example, Bubouis Maxuma versus bulb plants)\n",
    "\n",
    "### Content Freshness\n",
    "\n",
    "Is really only usful if the search term is experiencing a spike in usage. Like a hurricane. If there is a hurricane, search results will show news stories. If there is not, you'll likely get historical and government sites.\n",
    "\n",
    "Also, if you do get a boost from freshness, it's for a very short while and then your site is dropped back down.\n",
    "\n",
    "### Direct Answers\n",
    "\n",
    "If a person directly searches a question you answer on your site and you are resputable, you might be the first result as an answer to that question. Debatable whether this is good or not, as you may be first, but that doesn't mean traffic will increase."
   ]
  }
 ],
 "metadata": {
  "kernelspec": {
   "display_name": "Python 3",
   "language": "python",
   "name": "python3"
  },
  "language_info": {
   "codemirror_mode": {
    "name": "ipython",
    "version": 3
   },
   "file_extension": ".py",
   "mimetype": "text/x-python",
   "name": "python",
   "nbconvert_exporter": "python",
   "pygments_lexer": "ipython3",
   "version": "3.6.0"
  }
 },
 "nbformat": 4,
 "nbformat_minor": 2
}
