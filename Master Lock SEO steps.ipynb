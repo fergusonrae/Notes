{
 "cells": [
  {
   "cell_type": "markdown",
   "metadata": {},
   "source": [
    "# Steps to check SEO pages\n",
    "\n",
    "## General Steps to Implement\n",
    "\n",
    "**Most important, know which project you are building (review or master)**\n",
    "\n",
    "Do not merge **ANYTHING** into master that is not in review\n",
    "\n",
    "1. Be sure the changes are working in development if at all possible\n",
    "2. Create a pull request to merge only the branch your changes are in into REVIEW and have one of the team members look it over\n",
    "3. Once merged, build Review.\n",
    "4. Smoke check the review site for every one of the changes and make sure they are reflected. If they are not and you are sure they were in production, try clearing the page cache by calling a cache-clear string at the end of the domain. If it is a larger change, have QA look over the review site.\n",
    " 1. DOMAIN-HERE/cache-clear?token=a3I4ueV9OxltGugcaT9b\n",
    "4. If changes need to be made, make these changes in the initial branch and create another pull request with REVIEW.\n",
    "5. Once review looks good, create a pull request with your initial branch and master and have a team member look it over again.\n",
    " 1. **Do not merge REVIEW into MASTER unless necessary**\n",
    "6. Once merged, build Production in Jenkins and view the site, smoke testing the changes. If it is a larger change, have QA look over the production site\n",
    "\n",
    "## Important Things to Remember\n",
    "* Don't do any builds after 2pm\n",
    " * No one wants to stay late working on fixing a bad build\n",
    "* Do not merge a change into production without having at least one other team member do a code review with you over it.\n",
    " * Lessens the chance of destroying the live site and encourages better coding practices"
   ]
  },
  {
   "cell_type": "markdown",
   "metadata": {},
   "source": [
    "# Redirects\n",
    "* Build the approriate project in Jenkins\n",
    "* Clear the cache for the project either through Jenkins or by calling \n",
    " * DOMAIN-HERE/cache-clear?token=a3I4ueV9OxltGugcaT9b\n",
    "* Clear browser history by going to History - Clear Browser History\n",
    "* Check the redirect\n",
    "\n",
    "### If it didn't go through\n",
    "* Make sure you did the above steps\n",
    "* If the redirect was in the infrastructure project\n",
    " * Check the project in review/production and be sure that the changes are their\n",
    " * Make sure there are no extra spaces in the flags of the redirects for either the new redirects or any previous ones"
   ]
  }
 ],
 "metadata": {
  "kernelspec": {
   "display_name": "Python 3",
   "language": "python",
   "name": "python3"
  },
  "language_info": {
   "codemirror_mode": {
    "name": "ipython",
    "version": 3
   },
   "file_extension": ".py",
   "mimetype": "text/x-python",
   "name": "python",
   "nbconvert_exporter": "python",
   "pygments_lexer": "ipython3",
   "version": "3.6.0"
  }
 },
 "nbformat": 4,
 "nbformat_minor": 2
}
